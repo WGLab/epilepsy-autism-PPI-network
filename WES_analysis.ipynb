{
 "cells": [
  {
   "cell_type": "code",
   "execution_count": 1,
   "metadata": {},
   "outputs": [
    {
     "name": "stderr",
     "output_type": "stream",
     "text": [
      "/opt/anaconda3/lib/python3.7/site-packages/statsmodels/tools/_testing.py:19: FutureWarning: pandas.util.testing is deprecated. Use the functions in the public API at pandas.testing instead.\n",
      "  import pandas.util.testing as tm\n"
     ]
    }
   ],
   "source": [
    "# visualization packages\n",
    "import matplotlib\n",
    "import matplotlib.pyplot as plt\n",
    "import seaborn as sns\n",
    "\n",
    "# other packages\n",
    "import numpy as np\n",
    "import os\n",
    "import pandas as pd\n",
    "from scipy.stats import hypergeom"
   ]
  },
  {
   "cell_type": "code",
   "execution_count": 2,
   "metadata": {},
   "outputs": [],
   "source": [
    "# create a folder for figures\n",
    "FIGURES_DIR = \"figures\"\n",
    "if not os.path.exists(FIGURES_DIR):\n",
    "    os.makedirs(FIGURES_DIR)"
   ]
  },
  {
   "cell_type": "code",
   "execution_count": 3,
   "metadata": {},
   "outputs": [],
   "source": [
    "# replace gene names with the most updated one\n",
    "def update_genes(df, gene_col):\n",
    "    \n",
    "    new_df = pd.DataFrame()\n",
    "    for i, row in df.iterrows():\n",
    "    \n",
    "        #not_in_string = [\"SHANK3\", \"MARCA2\", \"DIPK2A\", \"SSPO\", \"RP11-1407O15.2\", \"PTCHD1-AS\", \"USP9Y\", \"MSNP1AS\", \"SHANK3\", \"MIR137\", \"NLGN4Y\", \"RPS10P2-AS1\", \"RP11-307N16.6\", \"RP11-1407O15.2\"]\n",
    "    \n",
    "        replacements = {\n",
    "            \"ND1\": \"MT-ND1\",\n",
    "            \"ND4\": \"MT-ND4\",\n",
    "            \"TRNR1\": \"GFRA1\",\n",
    "            \"CCM1\": \"KRIT1\",\n",
    "            \"C19orf61\": \"SMG9\",\n",
    "            \"EIF2C4\": \"AGO4\",\n",
    "            \"HOXD\": [\"HOXD1\", \"HOXD3\", \"HOXD4\", \"HOXD8\", \"HOXD9\", \"HOXD10\", \"HOXD11\", \"HOXD12\", \"HOXD13\"],\n",
    "            \"ATP6\": \"MT-ATP6\",\n",
    "            \"APOE4\": \"APOE\",\n",
    "            \"ENSG00000173575\": \"CHD2\",\n",
    "            \"SCA2\": \"ATXN2\",\n",
    "            \"B3GNT1\": \"B4GAT1\",\n",
    "            \"COX3\": \"MT-CO3\",\n",
    "            \"ENSG00000086848\": \"ALG9\",\n",
    "            \"ATP8\": \"MT-ATP8\",\n",
    "            \"ND5\": \"MT-ND5\",\n",
    "            \"C2orf25\": \"MMADHC\",\n",
    "            \"PIG6\": \"PRODH\",\n",
    "            \"ENSG00000258947\": \"TUBB3\",\n",
    "            \"ADCK3\": \"COQ8A\", \n",
    "            \"COX1\": \"MT-CO1\",\n",
    "            \"DXS423E\": \"SMC1A\",\n",
    "            \"PCDHG\": [\"PCDHGA1\", \"PCDHGA2\", \"PCDHGA3\", \"PCDHGA4\", \"PCDHGA5\", \"PCDHGA6\", \"PCDHGA7\", \"PCDHGA8\", \"PCDHGA9\", \"PCDHGA10\", \"PCDHGA11\", \"PCDHGA12\", \\\n",
    "                      \"PCDHGB1\", \"PCDHGB2\", \"PCDHGB3\", \"PCDHGB4\", \"PCDHGB5\", \"PCDHGB6\", \"PCDHGB7\", \"PCDHGC3\", \"PCDHGC4\", \"PCDHGC5\"],\n",
    "            \"KIAA0226\": \"RUBCN\",\n",
    "            \"CYTB\": \"MT-CYB\",\n",
    "            \"KIAA0442\": \"AUTS2\",\n",
    "            \"KAL1\": \"ANOS1\",\n",
    "            \"BRP44L\": \"MPC1\",\n",
    "            \"KIAA1715\": \"LNPK\",\n",
    "            \"JMJD2C\": \"KDM4C\",\n",
    "            \"CCDC64\": \"BICDL1\" ,\n",
    "            \"KIAA2022\": \"NEXMIF\",\n",
    "            \"INADL\": \"PATJ\",\n",
    "            \"PIG6\": \"PRODH\",\n",
    "            \"PARK2\": \"PRKN\",\n",
    "            \"NDNL2\": \"NSMCE3\",\n",
    "            \"BZRAP1\": \"TSPOAP1\",\n",
    "            \"ERBB2IP\": \"ERBIN\",\n",
    "            \"HIST1H2BJ\": \"H2BC11\",\n",
    "            \"ADSS\": \"ADSS2\",\n",
    "            \"C15orf43\": \"TERB2\",\n",
    "            \"C16orf13\": \"METTL26\",\n",
    "            \"C11orf30\": \"EMSY\",\n",
    "            \"SUV420H1\": \"KMT5B\",\n",
    "            \"MKL2\": \"MRTFB\",\n",
    "            \"ENSG00000259159\": \"MFRP\",\n",
    "            \"C11orf82\": \"DDIAS\",\n",
    "            \"CSNK2B-LY6G5B-1181\": \"CSNK2B\",\n",
    "            \"RP11-1055B8.7\": \"BAHCC1\",\n",
    "            \"ENSG00000272414\": \"FAM47E-STBD1\",\n",
    "            \"C5orf20\": \"DCANP1\",\n",
    "            \"SOGA2\": \"MTCL1\",\n",
    "            \"FAM194A\": \"ERICH6\"\n",
    "        }\n",
    "        \n",
    "        gene = row[gene_col]\n",
    "        if gene in replacements:\n",
    "            replacement = replacements[gene]\n",
    "            if isinstance(replacement, str):\n",
    "                print(\"Replaced\", gene, \"with\", replacement)\n",
    "                row[gene_col] = replacement\n",
    "                new_df = new_df.append(row)\n",
    "            else:\n",
    "                for j in range(len(replacement)):\n",
    "                    print(\"Replaced\", gene, \"with\", replacement[j])\n",
    "                    row[gene_col] = replacement[j]\n",
    "                    new_df = new_df.append(row)\n",
    "        else:\n",
    "            new_df = new_df.append(row)\n",
    "                    \n",
    "    return new_df"
   ]
  },
  {
   "cell_type": "markdown",
   "metadata": {},
   "source": [
    "### Get all genes from STRING PPI"
   ]
  },
  {
   "cell_type": "code",
   "execution_count": 4,
   "metadata": {},
   "outputs": [
    {
     "name": "stdout",
     "output_type": "stream",
     "text": [
      "Replaced KIAA2022 with NEXMIF\n",
      "Replaced KAL1 with ANOS1\n",
      "Replaced KIAA1715 with LNPK\n",
      "Replaced KIAA0226 with RUBCN\n",
      "Replaced SUV420H1 with KMT5B\n",
      "Replaced B3GNT1 with B4GAT1\n",
      "Replaced ENSG00000258947 with TUBB3\n",
      "Replaced NDNL2 with NSMCE3\n",
      "Replaced MKL2 with MRTFB\n",
      "Replaced C15orf43 with TERB2\n",
      "Replaced BZRAP1 with TSPOAP1\n",
      "Replaced ADSS with ADSS2\n",
      "Replaced ADCK3 with COQ8A\n",
      "Replaced PARK2 with PRKN\n",
      "Replaced INADL with PATJ\n",
      "Replaced JMJD2C with KDM4C\n",
      "Replaced ENSG00000173575 with CHD2\n",
      "Replaced CCDC64 with BICDL1\n",
      "Replaced ENSG00000272414 with FAM47E-STBD1\n",
      "Replaced ERBB2IP with ERBIN\n",
      "Replaced C11orf30 with EMSY\n",
      "Replaced C16orf13 with METTL26\n",
      "Replaced ENSG00000258947 with TUBB3\n",
      "Replaced HIST1H2BJ with H2BC11\n",
      "Replaced PIG6 with PRODH\n",
      "Replaced ENSG00000259159 with MFRP\n",
      "Replaced ENSG00000086848 with ALG9\n",
      "There are 19556 nodes in the PPI network\n"
     ]
    }
   ],
   "source": [
    "info_df = pd.read_csv(\"9606.protein.info.v11.0.txt\", sep='\\t')\n",
    "info_df = update_genes(info_df, \"preferred_name\")\n",
    "PPI_all_genes = set(info_df['preferred_name'])\n",
    "print(\"There are\", str(len(PPI_all_genes)), \"nodes in the PPI network\")"
   ]
  },
  {
   "cell_type": "markdown",
   "metadata": {},
   "source": [
    "# Get epilepsy WES genes\n",
    "### Paper by Epi25 Collaborative\n",
    "### https://www.cell.com/ajhg/fulltext/S0002-9297(19)30207-1"
   ]
  },
  {
   "cell_type": "code",
   "execution_count": 5,
   "metadata": {},
   "outputs": [
    {
     "name": "stdout",
     "output_type": "stream",
     "text": [
      "Replaced CSNK2B-LY6G5B-1181 with CSNK2B\n",
      "Replaced C11orf82 with DDIAS\n",
      "There are a total of 200 epilepsy WES genes.\n"
     ]
    }
   ],
   "source": [
    "epilepsy_df = pd.read_csv(\"WES_EPI_gene_burden_AC_1_Epi25_Collaborative_2019.csv\", skiprows=2, nrows=200)\n",
    "epilepsy_df = update_genes(epilepsy_df, \"Gene\")\n",
    "epilepsy_genes = set(epilepsy_df[\"Gene\"])\n",
    "print(\"There are a total of\", str(len(epilepsy_genes)), \"epilepsy WES genes.\")"
   ]
  },
  {
   "cell_type": "markdown",
   "metadata": {},
   "source": [
    "### Remove epilepsy WES genes not found in STRING PPI network"
   ]
  },
  {
   "cell_type": "code",
   "execution_count": 6,
   "metadata": {},
   "outputs": [],
   "source": [
    "epilepsy_genes_not_found = set()\n",
    "for i in epilepsy_genes:\n",
    "    if not i in PPI_all_genes:\n",
    "        print(i)\n",
    "        epilepsy_genes_not_found.add(i)"
   ]
  },
  {
   "cell_type": "code",
   "execution_count": 7,
   "metadata": {},
   "outputs": [
    {
     "name": "stdout",
     "output_type": "stream",
     "text": [
      "After removing the genes not in the STRING PPI network:\n",
      "There are 200 epilepsy WES genes.\n"
     ]
    }
   ],
   "source": [
    "epilepsy_genes = epilepsy_genes.difference(epilepsy_genes_not_found)\n",
    "\n",
    "print(\"After removing the genes not in the STRING PPI network:\")\n",
    "print(\"There are\", len(epilepsy_genes), \"epilepsy WES genes.\")"
   ]
  },
  {
   "cell_type": "markdown",
   "metadata": {},
   "source": [
    "# Get autism WES genes\n",
    "### Paper by Satterstrom et al.\n",
    "### https://www.cell.com/cell/pdf/S0092-8674(19)31398-4.pdf"
   ]
  },
  {
   "cell_type": "code",
   "execution_count": 8,
   "metadata": {},
   "outputs": [
    {
     "name": "stdout",
     "output_type": "stream",
     "text": [
      "Replaced SUV420H1 with KMT5B\n",
      "There are a total of 102 autism WES genes.\n"
     ]
    }
   ],
   "source": [
    "autism_df = pd.read_csv(\"WES_autism_Satterstrom_2020.csv\", nrows=102)\n",
    "autism_df = update_genes(autism_df, \"gene\")\n",
    "autism_genes = set(autism_df[\"gene\"])\n",
    "print(\"There are a total of\", str(len(autism_genes)), \"autism WES genes.\")"
   ]
  },
  {
   "cell_type": "markdown",
   "metadata": {},
   "source": [
    "### Remove autism WES genes not found in STRING PPI network"
   ]
  },
  {
   "cell_type": "code",
   "execution_count": 9,
   "metadata": {},
   "outputs": [
    {
     "name": "stdout",
     "output_type": "stream",
     "text": [
      "SHANK3\n"
     ]
    }
   ],
   "source": [
    "autism_genes_not_found = set()\n",
    "for i in autism_genes:\n",
    "    if not i in PPI_all_genes:\n",
    "        print(i)\n",
    "        autism_genes_not_found.add(i)"
   ]
  },
  {
   "cell_type": "code",
   "execution_count": 10,
   "metadata": {},
   "outputs": [
    {
     "name": "stdout",
     "output_type": "stream",
     "text": [
      "After removing the genes not in the STRING PPI network:\n",
      "There are 101 autism WES genes.\n"
     ]
    }
   ],
   "source": [
    "autism_genes = autism_genes.difference(autism_genes_not_found)\n",
    "\n",
    "print(\"After removing the genes not in the STRING PPI network:\")\n",
    "print(\"There are\", len(autism_genes), \"autism WES genes.\")"
   ]
  },
  {
   "cell_type": "markdown",
   "metadata": {},
   "source": [
    "# Setup"
   ]
  },
  {
   "cell_type": "code",
   "execution_count": 11,
   "metadata": {},
   "outputs": [
    {
     "data": {
      "image/png": "[encoded data removed]",
      "text/plain": [
       "<Figure size 288x72 with 1 Axes>"
      ]
     },
     "metadata": {
      "needs_background": "light"
     },
     "output_type": "display_data"
    },
    {
     "data": {
      "image/png": "[encoded data removed]",
      "text/plain": [
       "<Figure size 288x72 with 1 Axes>"
      ]
     },
     "metadata": {
      "needs_background": "light"
     },
     "output_type": "display_data"
    }
   ],
   "source": [
    "# color palettes for epilepsy and autism\n",
    "\n",
    "col_pal_a = sns.color_palette(\"OrRd_r\")\n",
    "col_pal_a = [col_pal_a[0], [sum(x)/2 for x in zip(col_pal_a[1], col_pal_a[2])], col_pal_a[3], col_pal_a[5]]\n",
    "sns.palplot(col_pal_a)\n",
    "\n",
    "col_pal_e = sns.color_palette(\"GnBu_r\")\n",
    "col_pal_e = [col_pal_e[0], col_pal_e[2], col_pal_e[3], col_pal_e[5]]\n",
    "sns.palplot(col_pal_e)"
   ]
  },
  {
   "cell_type": "markdown",
   "metadata": {},
   "source": [
    "# Helper Functions"
   ]
  },
  {
   "cell_type": "code",
   "execution_count": 12,
   "metadata": {},
   "outputs": [],
   "source": [
    "# test for enrichment in a gene group given a distribution of the genes among the modules\n",
    "def test_enrichement(distribution, coms):\n",
    "    \n",
    "    p_vals = []\n",
    "    enrichment = []\n",
    "    \n",
    "    M = sum([len(com) for com in coms.communities]) # population size\n",
    "    n = sum(distribution) # number of successes in population\n",
    "\n",
    "    for i, com in enumerate(coms.communities):\n",
    "        x = distribution[i] # number of drawn successes\n",
    "        N = len(com) # sample size\n",
    "\n",
    "        mean = hypergeom.mean(M, n, N, loc=0)\n",
    "\n",
    "        pval = -1\n",
    "        if x < mean:\n",
    "            pval = hypergeom.cdf(x, M, n, N)\n",
    "            enrichment.append(-1) # less than expected\n",
    "        else:\n",
    "            pval = hypergeom.sf(x-1, M, n, N)\n",
    "            enrichment.append(1) # more then expected\n",
    "            \n",
    "        p_vals.append(pval)\n",
    "        \n",
    "    return p_vals, enrichment"
   ]
  },
  {
   "cell_type": "code",
   "execution_count": 13,
   "metadata": {},
   "outputs": [],
   "source": [
    "# get a non-normalized distribution of a gene group among the modules\n",
    "def get_distribution_total(group, coms):\n",
    "    distribution = [len(set(com).intersection(group)) for com in coms.communities]\n",
    "    return distribution"
   ]
  },
  {
   "cell_type": "code",
   "execution_count": 14,
   "metadata": {},
   "outputs": [],
   "source": [
    "# get which modules are enriched in a certain gene group\n",
    "def get_enriched_modules(pvals, enrichment, alpha):\n",
    "    enriched_modules = []\n",
    "    for i in range(len(pvals)):\n",
    "        if enrichment[i] == 1 and pvals[i] < alpha:\n",
    "            enriched_modules.append(i+1)\n",
    "        \n",
    "    return enriched_modules"
   ]
  },
  {
   "cell_type": "code",
   "execution_count": 15,
   "metadata": {},
   "outputs": [],
   "source": [
    "# plot the distribution of a gene group among the modules\n",
    "def plot_distribution(distribution_list, distribution_labels, enriched_modules, pvals, module_cutoff, col_pal, y_axes_col, y_labels, y_lims=None, scatter_list=None, color_list=None, save_fig=False, fig_title=None):\n",
    "\n",
    "    matplotlib.rcParams.update({'font.size': 20})\n",
    "    fig, ax1 = plt.subplots(figsize=(14,8))\n",
    "    index = np.arange(module_cutoff)\n",
    "    \n",
    "    if len(distribution_list) > 2:\n",
    "        bar_width = 0.2\n",
    "    else:\n",
    "        bar_width = 0.3\n",
    "    opacity = 0.8\n",
    "\n",
    "    for i, distribution in enumerate(distribution_list):\n",
    "        rects = ax1.bar(index + i*bar_width, distribution[:module_cutoff], bar_width, alpha=opacity, color=col_pal[i], label=distribution_labels[i])\n",
    "        \n",
    "        if len(distribution_list) == len(pvals):\n",
    "            for j, rect in enumerate(rects, 1):\n",
    "                if j in enriched_modules[i]:\n",
    "                    height = rect.get_height()\n",
    "                    if pvals[i][j-1] < 0.01:\n",
    "                        plt.text(rect.get_x() + rect.get_width()/2.0, height, '**', ha='center', va='bottom')\n",
    "                    else:\n",
    "                        plt.text(rect.get_x() + rect.get_width()/2.0, height, '*', ha='center', va='bottom')\n",
    "    \n",
    "    # one p-value for all bars\n",
    "    if len(distribution_list) != len(pvals):\n",
    "        for j, rect in enumerate(rects, 1):\n",
    "            if j in enriched_modules[0]:\n",
    "                height = rect.get_height()\n",
    "                if pvals[0][j-1] < 0.01:\n",
    "                    plt.text(index[j-1], height, '**', ha='center', va='bottom')\n",
    "                else:\n",
    "                    plt.text(index[j-1], height, '*', ha='center', va='bottom')\n",
    "\n",
    "    ax1.set_xlabel('Module')\n",
    "    x_tick_labels = [str(i) for i in range(1, module_cutoff + 1)]\n",
    "    x_ticks = index + (bar_width*(len(distribution_list)-1))/2\n",
    "    \n",
    "    color = \"black\"\n",
    "    ax1.set_ylabel(y_labels[0], color=color)\n",
    "    ax1.tick_params(axis='y', labelcolor=color)\n",
    "    plt.legend(loc=\"upper center\")\n",
    "    \n",
    "    if y_lims:\n",
    "        ax1.set_ylim(y_lims[0])\n",
    "\n",
    "    if scatter_list:\n",
    "        ax2 = ax1.twinx()\n",
    "        color = y_axes_col[1]\n",
    "        for i, scatter in enumerate(scatter_list):\n",
    "            ax2.scatter(x_ticks, scatter[:module_cutoff], color=color_list[i])\n",
    "        ax2.set_ylabel(y_labels[1], color=color)\n",
    "        ax2.tick_params(axis='y', labelcolor=color)\n",
    "        ax2.set_ylim(y_lims[1])\n",
    "    \n",
    "    plt.xticks(x_ticks, x_tick_labels)    \n",
    "    fig.tight_layout()\n",
    "    \n",
    "    if save_fig:\n",
    "        plt.savefig(FIGURES_DIR + \"/\" + fig_title + \".png\", dpi=300)\n",
    "    plt.show()"
   ]
  },
  {
   "cell_type": "markdown",
   "metadata": {},
   "source": [
    "# Generate modules in the epilepsy-autism PPI network"
   ]
  },
  {
   "cell_type": "code",
   "execution_count": 16,
   "metadata": {},
   "outputs": [],
   "source": [
    "modules_df = pd.read_csv(\"gene_info_all_genes.tsv\", sep=\"\\t\")"
   ]
  },
  {
   "cell_type": "code",
   "execution_count": 17,
   "metadata": {},
   "outputs": [
    {
     "name": "stdout",
     "output_type": "stream",
     "text": [
      "Number of genes in the epilepsy-autism PPI network: 1697\n",
      "Number of modules in the epilepsy-autism PPI network: 326\n"
     ]
    }
   ],
   "source": [
    "PPI_genes = set(modules_df[\"node\"])\n",
    "print(\"Number of genes in the epilepsy-autism PPI network:\", len(PPI_genes))\n",
    "\n",
    "num_modules = max(modules_df[\"module\"])\n",
    "print(\"Number of modules in the epilepsy-autism PPI network:\", num_modules)"
   ]
  },
  {
   "cell_type": "code",
   "execution_count": 18,
   "metadata": {},
   "outputs": [],
   "source": [
    "# define the communities\n",
    "communities = []\n",
    "for i in range(num_modules):\n",
    "    communities.append([])\n",
    "\n",
    "for i, row in modules_df.iterrows():\n",
    "    module = row[\"module\"]\n",
    "    gene = row[\"node\"]\n",
    "    communities[module - 1].append(gene)\n",
    "    \n",
    "class leiden_coms:\n",
    "    communities = []\n",
    "    \n",
    "leiden_coms.communities = communities"
   ]
  },
  {
   "cell_type": "markdown",
   "metadata": {},
   "source": [
    "# Enrichment analysis of epilepsy and autism WES genes"
   ]
  },
  {
   "cell_type": "code",
   "execution_count": 19,
   "metadata": {},
   "outputs": [],
   "source": [
    "common_genes = epilepsy_genes.intersection(autism_genes)"
   ]
  },
  {
   "cell_type": "code",
   "execution_count": 20,
   "metadata": {},
   "outputs": [],
   "source": [
    "# only look into largest 17 modules\n",
    "MODULE_CUTOFF = 17"
   ]
  },
  {
   "cell_type": "code",
   "execution_count": 21,
   "metadata": {},
   "outputs": [],
   "source": [
    "# size of each community\n",
    "coms_size = [len(com) for com in leiden_coms.communities]"
   ]
  },
  {
   "cell_type": "code",
   "execution_count": 22,
   "metadata": {},
   "outputs": [],
   "source": [
    "pvals_e, enrichment_e = test_enrichement(get_distribution_total(epilepsy_genes, leiden_coms), leiden_coms)\n",
    "enriched_modules_e = get_enriched_modules(pvals_e, enrichment_e, alpha=0.05)\n",
    "\n",
    "pvals_a, enrichment_a = test_enrichement(get_distribution_total(autism_genes, leiden_coms), leiden_coms)\n",
    "enriched_modules_a = get_enriched_modules(pvals_a, enrichment_a, alpha=0.05)\n",
    "\n",
    "pvals_c, enrichment_c = test_enrichement(get_distribution_total(common_genes, leiden_coms), leiden_coms)\n",
    "enriched_modules_c = get_enriched_modules(pvals_c, enrichment_c, alpha=0.05)"
   ]
  },
  {
   "cell_type": "code",
   "execution_count": 23,
   "metadata": {},
   "outputs": [],
   "source": [
    "distribution_e = get_distribution_total(epilepsy_genes, leiden_coms)\n",
    "distribution_a = get_distribution_total(autism_genes, leiden_coms)\n",
    "distribution_c = get_distribution_total(common_genes, leiden_coms)"
   ]
  },
  {
   "cell_type": "code",
   "execution_count": 24,
   "metadata": {
    "scrolled": false
   },
   "outputs": [
    {
     "data": {
      "image/png": "[encoded data removed]",
      "text/plain": [
       "<Figure size 1008x576 with 2 Axes>"
      ]
     },
     "metadata": {
      "needs_background": "light"
     },
     "output_type": "display_data"
    }
   ],
   "source": [
    "distribution_list = [distribution_e, distribution_a, distribution_c]\n",
    "distribution_labels = [\"Epilepsy\", \"Autism\", \"Common\"]\n",
    "enriched_modules = [enriched_modules_e, enriched_modules_a, enriched_modules_c]\n",
    "pvals = [pvals_e, pvals_a, pvals_c]\n",
    "y_labels = [\"Number of genes\", \"Module size\"]\n",
    "y_lims = [(0, 40), (0, 250)]\n",
    "y_axes_col = [col_pal_e[0], \"purple\"]\n",
    "plot_distribution(distribution_list, distribution_labels, enriched_modules, pvals, MODULE_CUTOFF, [col_pal_e[0], col_pal_a[0], \"yellow\"], y_axes_col, y_labels, y_lims, scatter_list=[coms_size], color_list=['purple'], save_fig=True, fig_title=\"WES_distribution\")\n"
   ]
  },
  {
   "cell_type": "code",
   "execution_count": null,
   "metadata": {},
   "outputs": [],
   "source": []
  }
 ],
 "metadata": {
  "kernelspec": {
   "display_name": "Python 3",
   "language": "python",
   "name": "python3"
  },
  "language_info": {
   "codemirror_mode": {
    "name": "ipython",
    "version": 3
   },
   "file_extension": ".py",
   "mimetype": "text/x-python",
   "name": "python",
   "nbconvert_exporter": "python",
   "pygments_lexer": "ipython3",
   "version": "3.7.4"
  }
 },
 "nbformat": 4,
 "nbformat_minor": 2
}
