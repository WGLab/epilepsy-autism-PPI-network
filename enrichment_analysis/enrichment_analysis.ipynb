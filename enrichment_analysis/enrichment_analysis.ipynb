{
 "cells": [
  {
   "cell_type": "markdown",
   "metadata": {},
   "source": [
    "Variables to be updated/configured:"
   ]
  },
  {
   "cell_type": "code",
   "execution_count": null,
   "metadata": {},
   "outputs": [],
   "source": [
    "WES = True # False if running for the larger epilepsy-autism multiplex network, True if running for the WES multiplex network\n",
    "\n",
    "if WES:\n",
    "    COMS_DIR = \"./../communities_wes\" # path to directory containing information on the communities in the network\n",
    "else:\n",
    "    COMS_DIR = \"./../communities\" # path to directory containing information on the communities in the network\n",
    "    \n",
    "GRAPH_DIR = \"./../gexf_files\" # path to directory where the .gexf files are located\n",
    "GENE_SETS_DIR = \"./../gene_sets\" # path to directory containing .csv files with genes sets\n",
    "PHENOTYPES_DIR = \"./../phenotypes\" # path to directory containing .csv files with epilepsy and autism phenotypes\n",
    "NET_GEN_DIR = \"./../network_generation\" # path to directory for network generation\n"
   ]
  },
  {
   "cell_type": "markdown",
   "metadata": {},
   "source": [
    "# Setup"
   ]
  },
  {
   "cell_type": "code",
   "execution_count": null,
   "metadata": {
    "scrolled": true
   },
   "outputs": [],
   "source": [
    "# network packages\n",
    "import networkx as nx\n",
    "from networkx.readwrite.gexf import read_gexf\n",
    "\n",
    "# other packages\n",
    "import os, random\n",
    "import numpy as np\n",
    "import pandas as pd\n",
    "from scipy.stats import hypergeom"
   ]
  },
  {
   "cell_type": "code",
   "execution_count": null,
   "metadata": {},
   "outputs": [],
   "source": [
    "if WES:\n",
    "    gene_phenotype_filename = 'gene-phenotype-wes-1-500-update.gexf'\n",
    "    gene_ppi_filename = \"gene-ppi-wes-700-update.gexf\"\n",
    "    gene_union_filename = 'gene-union-wes.gexf'\n",
    "else:\n",
    "    gene_phenotype_filename = 'gene-phenotype-1-1000-update.gexf'\n",
    "    gene_ppi_filename = 'gene-ppi-700-update.gexf'\n",
    "    gene_union_filename = 'gene-union.gexf'\n",
    "    \n",
    "gene_phenotype = read_gexf(os.path.join(GRAPH_DIR, gene_phenotype_filename))\n",
    "gene_ppi = read_gexf(os.path.join(GRAPH_DIR, gene_ppi_filename))\n",
    "gene_union = read_gexf(os.path.join(GRAPH_DIR, gene_union_filename))"
   ]
  },
  {
   "cell_type": "code",
   "execution_count": null,
   "metadata": {},
   "outputs": [],
   "source": [
    "# wrapper for communities\n",
    "class Coms:\n",
    "    def __init__(self, communities):\n",
    "        self.communities = communities\n",
    "        self.overlap = None\n",
    "        \n",
    "# get Coms class with genes from annotated networkx graph\n",
    "def get_coms_from_graph(G):    \n",
    "    max_module = max([G.nodes[node]['module'] for node in G.nodes])\n",
    "    partition = []\n",
    "    for i in range(max_module):\n",
    "        partition.append([])\n",
    "    for node in G.nodes:\n",
    "        mod = G.nodes[node]['module']\n",
    "        partition[mod-1] = partition[mod-1] + [node]\n",
    "    coms = Coms(partition)\n",
    "    return coms"
   ]
  },
  {
   "cell_type": "code",
   "execution_count": null,
   "metadata": {},
   "outputs": [],
   "source": [
    "coms_ppi = get_coms_from_graph(gene_ppi)\n",
    "coms_phenotype = get_coms_from_graph(gene_phenotype)\n",
    "coms_multiplex = get_coms_from_graph(gene_union)"
   ]
  },
  {
   "cell_type": "code",
   "execution_count": null,
   "metadata": {},
   "outputs": [],
   "source": [
    "# standardize gene names\n",
    "def update_genes(df, gene_col):\n",
    "    new_df = pd.DataFrame()\n",
    "    for i, row in df.iterrows():\n",
    "        replacements = {\n",
    "            \"ND1\": \"MT-ND1\",\n",
    "            \"ND4\": \"MT-ND4\",\n",
    "            \"TRNR1\": \"GFRA1\",\n",
    "            \"CCM1\": \"KRIT1\",\n",
    "            \"C19orf61\": \"SMG9\",\n",
    "            \"EIF2C4\": \"AGO4\",\n",
    "            \"HOXD\": [\"HOXD1\", \"HOXD3\", \"HOXD4\", \"HOXD8\", \"HOXD9\", \"HOXD10\", \"HOXD11\", \"HOXD12\", \"HOXD13\"],\n",
    "            \"ATP6\": \"MT-ATP6\",\n",
    "            \"APOE4\": \"APOE\",\n",
    "            \"ENSG00000173575\": \"CHD2\",\n",
    "            \"SCA2\": \"ATXN2\",\n",
    "            \"B3GNT1\": \"B4GAT1\",\n",
    "            \"COX3\": \"MT-CO3\",\n",
    "            \"ENSG00000086848\": \"ALG9\",\n",
    "            \"ATP8\": \"MT-ATP8\",\n",
    "            \"ND5\": \"MT-ND5\",\n",
    "            \"C2orf25\": \"MMADHC\",\n",
    "            \"PIG6\": \"PRODH\",\n",
    "            \"ENSG00000258947\": \"TUBB3\",\n",
    "            \"ADCK3\": \"COQ8A\", \n",
    "            \"COX1\": \"MT-CO1\",\n",
    "            \"DXS423E\": \"SMC1A\",\n",
    "            \"PCDHG\": [\"PCDHGA1\", \"PCDHGA2\", \"PCDHGA3\", \"PCDHGA4\", \"PCDHGA5\", \"PCDHGA6\", \"PCDHGA7\", \"PCDHGA8\", \"PCDHGA9\", \"PCDHGA10\", \"PCDHGA11\", \"PCDHGA12\", \\\n",
    "                      \"PCDHGB1\", \"PCDHGB2\", \"PCDHGB3\", \"PCDHGB4\", \"PCDHGB5\", \"PCDHGB6\", \"PCDHGB7\", \"PCDHGC3\", \"PCDHGC4\", \"PCDHGC5\"],\n",
    "            \"KIAA0226\": \"RUBCN\",\n",
    "            \"CYTB\": \"MT-CYB\",\n",
    "            \"KIAA0442\": \"AUTS2\",\n",
    "            \"KAL1\": \"ANOS1\",\n",
    "            \"BRP44L\": \"MPC1\",\n",
    "            \"KIAA1715\": \"LNPK\",\n",
    "            \"JMJD2C\": \"KDM4C\",\n",
    "            \"CCDC64\": \"BICDL1\" ,\n",
    "            \"KIAA2022\": \"NEXMIF\",\n",
    "            \"INADL\": \"PATJ\",\n",
    "            \"PIG6\": \"PRODH\",\n",
    "            \"PARK2\": \"PRKN\",\n",
    "            \"NDNL2\": \"NSMCE3\",\n",
    "            \"BZRAP1\": \"TSPOAP1\",\n",
    "            \"ERBB2IP\": \"ERBIN\",\n",
    "            \"HIST1H2BJ\": \"H2BC11\",\n",
    "            \"ADSS\": \"ADSS2\",\n",
    "            \"C15orf43\": \"TERB2\",\n",
    "            \"C16orf13\": \"METTL26\",\n",
    "            \"C11orf30\": \"EMSY\",\n",
    "            \"SUV420H1\": \"KMT5B\",\n",
    "            \"MKL2\": \"MRTFB\",\n",
    "            \"ENSG00000259159\": \"MFRP\",\n",
    "            \"MARCA2\":\"SMARCA2\",\n",
    "            \"C11orf82\": \"DDIAS\",\n",
    "            \"CSNK2B-LY6G5B-1181\": \"CSNK2B\",\n",
    "            'TCAF1': 'FAM115A', \n",
    "            'KCNMB2': 'ENSG00000275163', \n",
    "            'KIAA1009': 'CEP162', \n",
    "            'AGMO(alsoknownasTMEM195)': 'AGMO', \n",
    "            'PPIEL': 'PPIEL', \n",
    "            'GGTA1P': 'GGTA1', \n",
    "            'KIAA1239': 'NWD2', \n",
    "            'LINC01370': 'LINC01370', \n",
    "            'PCDHA@': ['PCDHA10', 'PCDHA9', 'PCDHA5', 'PCDHA11', 'PCDHA7', 'PCDHA3', 'PCDHA8', 'PCDHA2', 'PCDHA1', 'PCDHA13', 'PCDHA4', 'PCDHA6', 'PCDHA12'], \n",
    "            'MsrA': 'MSRA', \n",
    "            'DGCR6': 'ENSG00000183628', \n",
    "            'ZNF259': 'ZPR1', \n",
    "            'ADGRA2': 'GPR124', \n",
    "            'KIAA1430': 'CFAP97',     \n",
    "            'RNASE4': 'ENSG00000258818', \n",
    "            'C14orf166B': 'LRRC74A', \n",
    "            \"RP11-1055B8.7\": \"BAHCC1\",\n",
    "            \"ENSG00000272414\": \"FAM47E-STBD1\",\n",
    "            \"C5orf20\": \"DCANP1\",\n",
    "            \"SOGA2\": \"MTCL1\",\n",
    "            \"FAM194A\": \"ERICH6\"\n",
    "        }\n",
    "        \n",
    "        gene = row[gene_col]\n",
    "        if gene in replacements:\n",
    "            replacement = replacements[gene]\n",
    "            if isinstance(replacement, str):\n",
    "                print(\"Replaced\", gene, \"with\", replacement)\n",
    "                row[gene_col] = replacement\n",
    "                new_df = new_df.append(row)\n",
    "            else:\n",
    "                for j in range(len(replacement)):\n",
    "                    print(\"Replaced\", gene, \"with\", replacement[j])\n",
    "                    row[gene_col] = replacement[j]\n",
    "                    new_df = new_df.append(row)\n",
    "        else:\n",
    "            new_df = new_df.append(row)\n",
    "                    \n",
    "    return new_df"
   ]
  },
  {
   "cell_type": "code",
   "execution_count": null,
   "metadata": {},
   "outputs": [],
   "source": [
    "info_df = pd.read_csv(os.path.join(NET_GEN_DIR, \"9606.protein.info.v11.0.txt\"), sep='\\t')\n",
    "info_df = update_genes(info_df, \"preferred_name\")\n",
    "PPI_all_genes = set(info_df['preferred_name'])"
   ]
  },
  {
   "cell_type": "markdown",
   "metadata": {},
   "source": [
    "# Import gene lists"
   ]
  },
  {
   "cell_type": "code",
   "execution_count": null,
   "metadata": {},
   "outputs": [],
   "source": [
    "epilepsy_genes_df = pd.read_csv(os.path.join(GENE_SETS_DIR, \"epilepsy_genes_wang_2017_formatted.csv\"))\n",
    "epilepsy_genes_df = update_genes(epilepsy_genes_df, 'gene')\n",
    "epilepsy_genes = set(epilepsy_genes_df['gene'])"
   ]
  },
  {
   "cell_type": "code",
   "execution_count": null,
   "metadata": {},
   "outputs": [],
   "source": [
    "autism_genes_df = pd.read_csv(os.path.join(GENE_SETS_DIR, \"SFARI-Gene_genes_01-03-2020release_01-05-2020export.csv\"))\n",
    "autism_genes_df = update_genes(autism_genes_df, 'gene-symbol')\n",
    "autism_genes = set(autism_genes_df['gene-symbol'])"
   ]
  },
  {
   "cell_type": "code",
   "execution_count": null,
   "metadata": {},
   "outputs": [],
   "source": [
    "autism_wes_df = pd.read_csv(os.path.join(GENE_SETS_DIR, \"WES_autism_Satterstrom_2020.csv\"), nrows=102)\n",
    "autism_wes_df = update_genes(autism_wes_df, \"gene\")\n",
    "autism_wes_genes = set(autism_wes_df['gene'])"
   ]
  },
  {
   "cell_type": "code",
   "execution_count": null,
   "metadata": {},
   "outputs": [],
   "source": [
    "epilepsy_wes_df = pd.read_csv(os.path.join(GENE_SETS_DIR, \"WES_EPI_gene_burden_AC_1_Epi25_Collaborative_2019.csv\"), nrows=200, skiprows=2)\n",
    "epilepsy_wes_df = update_genes(epilepsy_wes_df, 'Gene')\n",
    "epilepsy_wes_genes = set(epilepsy_wes_df['Gene'])"
   ]
  },
  {
   "cell_type": "code",
   "execution_count": null,
   "metadata": {},
   "outputs": [],
   "source": [
    "e1 = set(epilepsy_genes_df[epilepsy_genes_df['score']==1]['gene'])\n",
    "e2 = set(epilepsy_genes_df[epilepsy_genes_df['score']==2]['gene'])\n",
    "e3 = set(epilepsy_genes_df[epilepsy_genes_df['score']==3]['gene'])\n",
    "e4 = set(epilepsy_genes_df[epilepsy_genes_df['score']==4]['gene'])\n",
    "\n",
    "a1 = set(autism_genes_df[autism_genes_df['gene-score']==1]['gene-symbol'])\n",
    "a2 = set(autism_genes_df[autism_genes_df['gene-score']==2]['gene-symbol'])\n",
    "a3 = set(autism_genes_df[autism_genes_df['gene-score']==3]['gene-symbol'])\n",
    "a_s = set(autism_genes_df[autism_genes_df['syndromic']==1]['gene-symbol'])\n",
    "\n",
    "common_genes = e1.intersection(a1)\n",
    "common_all_genes = epilepsy_genes.intersection(autism_genes)\n",
    "common_wes_genes = autism_wes_genes.intersection(epilepsy_wes_genes)"
   ]
  },
  {
   "cell_type": "code",
   "execution_count": null,
   "metadata": {},
   "outputs": [],
   "source": [
    "disease_genes_df = pd.read_csv(os.path.join(GENE_SETS_DIR, \"disease_genes.csv\"))\n",
    "\n",
    "# get schizophrenia genes\n",
    "schiz_genes = set()\n",
    "for row in disease_genes_df.iloc[0:2][\"genes\"]:\n",
    "    genes = set(row.split(\",\"))\n",
    "    schiz_genes = schiz_genes.union(genes.intersection(PPI_all_genes))\n",
    "    \n",
    "schiz_df = pd.DataFrame({\"gene\": list(schiz_genes)})\n",
    "schiz_df = update_genes(schiz_df, \"gene\")\n",
    "schiz_genes = set(schiz_df[\"gene\"])\n",
    "# only consider genes in the STRING database since there are many pseudogenes/RNA genes\n",
    "schiz_genes = schiz_genes.intersection(PPI_all_genes) \n",
    "\n",
    "# get bipolar disorder genes\n",
    "row = disease_genes_df.iloc[2][\"genes\"]\n",
    "bp_df = pd.DataFrame({\"gene\": row.split(\",\")})\n",
    "bp_df = update_genes(bp_df, \"gene\")\n",
    "bipolar_genes = set(bp_df[\"gene\"])\n",
    "bipolar_genes = bipolar_genes.intersection(PPI_all_genes)\n",
    "\n",
    "# get intellectual disability genes\n",
    "row = disease_genes_df.iloc[3][\"genes\"]\n",
    "id_df = pd.DataFrame({\"gene\": row.split(\",\")})\n",
    "id_df = update_genes(id_df, \"gene\")\n",
    "id_genes = set(id_df[\"gene\"])\n",
    "id_genes = id_genes.intersection(PPI_all_genes)"
   ]
  },
  {
   "cell_type": "code",
   "execution_count": null,
   "metadata": {},
   "outputs": [],
   "source": [
    "if WES:\n",
    "    degs_df = pd.read_csv(os.path.join(GENE_SETS_DIR, \"BE_genes_WES.csv\")).rename(columns={'Unnamed: 0': 'Row.names'})\n",
    "else:\n",
    "    degs_df = pd.read_csv(os.path.join(GENE_SETS_DIR, \"BE_genes.csv\"), index_col=0)\n",
    "degs_df = degs_df[degs_df[\"logFC\"] > 0] # positive differential expression\n",
    "degs = set(degs_df[\"Row.names\"])"
   ]
  },
  {
   "cell_type": "code",
   "execution_count": null,
   "metadata": {},
   "outputs": [],
   "source": [
    "if WES:\n",
    "    genes_df = pd.read_csv(os.path.join(NET_GEN_DIR, 'genes_wes.txt'))\n",
    "else:\n",
    "    genes_df = pd.read_csv(os.path.join(NET_GEN_DIR, 'genes.txt'))\n",
    "\n",
    "gene_symbols = set(genes_df['gene_symbol'])\n",
    "gene_ids = set(genes_df['entrez_id'])"
   ]
  },
  {
   "cell_type": "code",
   "execution_count": null,
   "metadata": {},
   "outputs": [],
   "source": [
    "# get phenotype associations\n",
    "phenotype_to_gene_df = pd.read_csv('phenotype_to_genes.txt', sep='\\t', skiprows=1, header=None) # gene-phenotype associations from JAX\n",
    "phenotype_to_gene_df.columns = ['phenotype', 'name', 'entrezid', 'gene', 'additional_info', 'source', 'disease_id']\n",
    "\n",
    "gene_phenotype_df = phenotype_to_gene_df[phenotype_to_gene_df['entrezid'].isin(gene_ids)]\n",
    "phenotypes_in_network = set(gene_phenotype_df['phenotype']) # aggregation of all phenotypes associated with genes in the network\n",
    "\n",
    "epilepsy_phenotypes_df = pd.read_csv(os.path.join(PHENOTYPES_DIR, \"epilepsy_phenotypes.csv\")) # epilepsy phenotypes (HPO subtree with root Autistic behavior HP:0000729)\n",
    "autism_phenotypes_df = pd.read_csv(os.path.join(PHENOTYPES_DIR, \"autism_phenotypes.csv\")) # autism phenotypes (HPO subtree with root Seizure HP:0001250)\n",
    "epilepsy_phenotypes = set(epilepsy_phenotypes_df['HPO'])\n",
    "autism_phenotypes = set(autism_phenotypes_df['HPO'])\n",
    "all_phenotypes = phenotypes_in_network.union(autism_phenotypes).union(epilepsy_phenotypes) # phenotypes in network + epilepsy and autism phenotypes\n",
    "ea_phenotypes = sorted(list(epilepsy_phenotypes)) + sorted(list(autism_phenotypes))\n",
    "\n",
    "gene_phenotype_df = phenotype_to_gene_df[phenotype_to_gene_df['phenotype'].isin(all_phenotypes)]"
   ]
  },
  {
   "cell_type": "markdown",
   "metadata": {},
   "source": [
    "# Enrichment tests"
   ]
  },
  {
   "cell_type": "code",
   "execution_count": null,
   "metadata": {},
   "outputs": [],
   "source": [
    "def save_coms_to_csv(coms, filename):\n",
    "    df = pd.DataFrame()\n",
    "    for mod_num, com in enumerate(coms, 1):\n",
    "        for g in com:\n",
    "            df = df.append([[mod_num, g]], ignore_index=True)\n",
    "    df.columns = ['module', 'gene']\n",
    "    df.to_csv(filename, index=False)"
   ]
  },
  {
   "cell_type": "code",
   "execution_count": null,
   "metadata": {},
   "outputs": [],
   "source": [
    "save_coms_to_csv(coms_phenotype.communities, os.path.join(COMS_DIR, 'coms_phenotype.csv'))\n",
    "save_coms_to_csv(coms_ppi.communities, os.path.join(COMS_DIR, 'coms_ppi.csv'))\n",
    "save_coms_to_csv(coms_multiplex.communities, os.path.join(COMS_DIR, 'coms_multiplex.csv'))"
   ]
  },
  {
   "cell_type": "code",
   "execution_count": null,
   "metadata": {},
   "outputs": [],
   "source": [
    "# test enrichment in phenotypes using Jax gene-HPO associations\n",
    "def test_phenotype_enrichment(coms, phenotype, label, all_genes=False):\n",
    "    hpo_enrichments = []\n",
    "    \n",
    "    if all_genes:\n",
    "        M = len(PPI_all_genes) # population size/total number of genes\n",
    "    else:\n",
    "        M = sum([len(com) for com in coms]) # population size/total number of genes\n",
    "        \n",
    "    hpo_genes = set(gene_phenotype_df[gene_phenotype_df['phenotype'].isin(phenotype)]['gene'])\n",
    "    n = len(hpo_genes) # number of genes total with that hpo\n",
    "\n",
    "    for mod_num, com in enumerate(coms, 1):\n",
    "        x = len(hpo_genes.intersection(com)) # number of genes in com with give hpo association\n",
    "        N = len(com) # sample size\n",
    "        \n",
    "        pval = hypergeom.sf(x-1, M, n, N) # enrichment hypergeometric test\n",
    "        hpo_enrichments.append([mod_num, label, pval])\n",
    "                \n",
    "    return hpo_enrichments"
   ]
  },
  {
   "cell_type": "code",
   "execution_count": null,
   "metadata": {},
   "outputs": [],
   "source": [
    "# test enrichment in certain types of genes\n",
    "def test_gene_enrichment(coms, genes, label, all_genes=False):\n",
    "    hpo_enrichments = []\n",
    "    \n",
    "    if all_genes:\n",
    "        M = len(PPI_all_genes) # population size/total number of genes\n",
    "        n = len(genes) # number of genes total of given type\n",
    "    else:\n",
    "        M = sum([len(com) for com in coms]) # population size/total number of genes\n",
    "        match_genes = set([item for sublist in coms for item in sublist])\n",
    "        n = len(match_genes.intersection(set(genes))) # number of genes total of given type\n",
    "    \n",
    "    for mod_num, com in enumerate(coms, 1):\n",
    "        x = len(genes.intersection(com)) # number of genes in com of given type\n",
    "        N = len(com) # sample size\n",
    "\n",
    "        pval = hypergeom.sf(x-1, M, n, N) # enrichment hypergeometric test\n",
    "        hpo_enrichments.append([mod_num, label, pval])\n",
    "                \n",
    "    return hpo_enrichments"
   ]
  },
  {
   "cell_type": "code",
   "execution_count": null,
   "metadata": {},
   "outputs": [],
   "source": [
    "# test for enrichment\n",
    "def enrichment_test(coms, all_genes=False, hpo_list=None):\n",
    "    \n",
    "    hpo_enrichments = []\n",
    "    if hpo_list:\n",
    "        n = len(hpo_list)\n",
    "        for idx, hpo in enumerate(hpo_list):\n",
    "            if n > 1000 and idx % 1000 == 0:\n",
    "                print(f\"Calculating Jax HPO enrichment: {idx}/{n} HPO IDs\")\n",
    "            hpo_enrichments = hpo_enrichments + test_phenotype_enrichment(coms, [hpo], hpo, all_genes=all_genes)\n",
    "    \n",
    "    epilepsy_gene_enrichments = test_gene_enrichment(coms, epilepsy_genes, \"epilepsy_genes\", all_genes)\n",
    "    e1_enrichments = test_gene_enrichment(coms, e1, \"e1_genes\", all_genes)\n",
    "    e2_enrichments = test_gene_enrichment(coms, e2, \"e2_genes\", all_genes)\n",
    "    e3_enrichments = test_gene_enrichment(coms, e3, \"e3_genes\", all_genes)\n",
    "    e4_enrichments = test_gene_enrichment(coms, e4, \"e4_genes\", all_genes)\n",
    "    epilepsy_wes_gene_enrichments = test_gene_enrichment(coms, epilepsy_wes_genes, \"epilepsy_WES_genes\", all_genes)\n",
    "    \n",
    "    epilepsy_enrichments = epilepsy_gene_enrichments + e1_enrichments + e2_enrichments + e3_enrichments + e4_enrichments + epilepsy_wes_gene_enrichments\n",
    "    \n",
    "    autism_gene_enrichments = test_gene_enrichment(coms, autism_genes, \"autism_genes\", all_genes)\n",
    "    a1_enrichments = test_gene_enrichment(coms, a1, \"a1_genes\", all_genes)\n",
    "    a2_enrichments = test_gene_enrichment(coms, a2, \"a2_genes\", all_genes)\n",
    "    a3_enrichments = test_gene_enrichment(coms, a3, \"a3_genes\", all_genes)\n",
    "    as_enrichments = test_gene_enrichment(coms, a_s, \"as_genes\", all_genes)\n",
    "    autism_wes_gene_enrichments = test_gene_enrichment(coms, autism_wes_genes, \"autism_WES_genes\", all_genes)\n",
    "\n",
    "    autism_enrichments = autism_gene_enrichments = a1_enrichments + a2_enrichments + a3_enrichments + as_enrichments + autism_wes_gene_enrichments\n",
    "    \n",
    "    common_gene_enrichments = test_gene_enrichment(coms, common_genes, \"common_genes\", all_genes)\n",
    "    common_all_gene_enrichments = test_gene_enrichment(coms, common_all_genes, \"common_genes_all\", all_genes)\n",
    "    common_wes_gene_enrichments = test_gene_enrichment(coms, common_wes_genes, \"common_wes_genes\", all_genes)\n",
    "    common_enrichments = common_gene_enrichments + common_all_gene_enrichments + common_wes_gene_enrichments\n",
    "    \n",
    "    degs_enrichments = test_gene_enrichment(coms, degs, \"DE_genes\", all_genes)\n",
    "    schiz_gene_enrichments = test_gene_enrichment(coms, schiz_genes, \"schizophrenia_genes\", all_genes)\n",
    "    bipolar_gene_enrichments = test_gene_enrichment(coms, bipolar_genes, \"BD_genes\", all_genes)\n",
    "    id_gene_enrichments = test_gene_enrichment(coms, id_genes, \"ID_genes\", all_genes)\n",
    "    other_enrichments = degs_enrichments + schiz_gene_enrichments + bipolar_gene_enrichments + id_gene_enrichments\n",
    "    \n",
    "    all_enrichments = hpo_enrichments + epilepsy_enrichments + autism_enrichments + common_enrichments + other_enrichments\n",
    "    \n",
    "    df = pd.DataFrame(all_enrichments)\n",
    "    df.columns = [\"module\", \"label\", \"pval\"]\n",
    "    df = df.sort_values(by=[\"module\", \"label\", \"pval\"])\n",
    "    \n",
    "    return df"
   ]
  },
  {
   "cell_type": "markdown",
   "metadata": {},
   "source": [
    "### Enrichment tests for phenotype network layer modules"
   ]
  },
  {
   "cell_type": "code",
   "execution_count": null,
   "metadata": {},
   "outputs": [],
   "source": [
    "coms_phenotype_enrichment_df = enrichment_test(coms_phenotype.communities, all_genes=False, hpo_list=ea_phenotypes)\n",
    "coms_phenotype_enrichment_df = coms_phenotype_enrichment_df.merge(gene_phenotype_df[['phenotype', 'name']].drop_duplicates(), left_on=\"label\", right_on=\"phenotype\", how=\"left\").drop('phenotype', axis=1).rename(columns={'name':'phenotype_name'})\n",
    "coms_phenotype_enrichment_df.to_csv(os.path.join(COMS_DIR, 'coms_phenotype_enrichment.csv'), index=False)"
   ]
  },
  {
   "cell_type": "code",
   "execution_count": null,
   "metadata": {},
   "outputs": [],
   "source": [
    "coms_phenotype_enrichment_df = enrichment_test(coms_phenotype.communities, all_genes=True, hpo_list=ea_phenotypes)\n",
    "coms_phenotype_enrichment_df = coms_phenotype_enrichment_df.merge(gene_phenotype_df[['phenotype', 'name']].drop_duplicates(), left_on=\"label\", right_on=\"phenotype\", how=\"left\").drop('phenotype', axis=1).rename(columns={'name':'phenotype_name'})\n",
    "coms_phenotype_enrichment_df.to_csv(os.path.join(COMS_DIR, 'coms_phenotype_enrichment_all_genes.csv'), index=False)"
   ]
  },
  {
   "cell_type": "markdown",
   "metadata": {},
   "source": [
    "### Enrichment tests for PPI network layer modules"
   ]
  },
  {
   "cell_type": "code",
   "execution_count": null,
   "metadata": {},
   "outputs": [],
   "source": [
    "coms_ppi_enrichment_df = enrichment_test(coms_ppi.communities, all_genes=False, hpo_list=ea_phenotypes)\n",
    "coms_ppi_enrichment_df = coms_ppi_enrichment_df.merge(gene_phenotype_df[['phenotype', 'name']].drop_duplicates(), left_on=\"label\", right_on=\"phenotype\", how=\"left\").drop('phenotype', axis=1).rename(columns={'name':'phenotype_name'})\n",
    "coms_ppi_enrichment_df.to_csv(os.path.join(COMS_DIR, 'coms_ppi_enrichment.csv'), index=False)"
   ]
  },
  {
   "cell_type": "code",
   "execution_count": null,
   "metadata": {},
   "outputs": [],
   "source": [
    "coms_ppi_enrichment_df = enrichment_test(coms_ppi.communities, all_genes=True, hpo_list=ea_phenotypes)\n",
    "coms_ppi_enrichment_df = coms_ppi_enrichment_df.merge(gene_phenotype_df[['phenotype', 'name']].drop_duplicates(), left_on=\"label\", right_on=\"phenotype\", how=\"left\").drop('phenotype', axis=1).rename(columns={'name':'phenotype_name'})\n",
    "coms_ppi_enrichment_df.to_csv(os.path.join(COMS_DIR, 'coms_ppi_enrichment_all_genes.csv'), index=False)"
   ]
  },
  {
   "cell_type": "markdown",
   "metadata": {},
   "source": [
    "### Enrichment tests for multiplex network modules"
   ]
  },
  {
   "cell_type": "code",
   "execution_count": null,
   "metadata": {
    "scrolled": true
   },
   "outputs": [],
   "source": [
    "coms_multiplex_enrichment_df = enrichment_test(coms_multiplex.communities, all_genes=False, hpo_list=ea_phenotypes)\n",
    "coms_multiplex_enrichment_df = coms_multiplex_enrichment_df.merge(gene_phenotype_df[['phenotype', 'name']].drop_duplicates(), left_on=\"label\", right_on=\"phenotype\", how=\"left\").drop('phenotype', axis=1).rename(columns={'name':'phenotype_name'})\n",
    "coms_multiplex_enrichment_df.to_csv(os.path.join(COMS_DIR, 'coms_multiplex_enrichment.csv'), index=False)"
   ]
  },
  {
   "cell_type": "code",
   "execution_count": null,
   "metadata": {},
   "outputs": [],
   "source": [
    "coms_multiplex_enrichment_df = enrichment_test(coms_multiplex.communities, all_genes=True, hpo_list=ea_phenotypes)\n",
    "coms_multiplex_enrichment_df = coms_multiplex_enrichment_df.merge(gene_phenotype_df[['phenotype', 'name']].drop_duplicates(), left_on=\"label\", right_on=\"phenotype\", how=\"left\").drop('phenotype', axis=1).rename(columns={'name':'phenotype_name'})\n",
    "coms_multiplex_enrichment_df.to_csv(os.path.join(COMS_DIR, 'coms_multiplex_enrichment_all_genes.csv'), index=False)"
   ]
  },
  {
   "cell_type": "code",
   "execution_count": null,
   "metadata": {},
   "outputs": [],
   "source": [
    "# test enrichment for all HPO using background of all genes\n",
    "coms_multiplex_enrichment_df = enrichment_test(coms_multiplex.communities, all_genes=True, hpo_list=list(phenotypes_in_network))\n",
    "coms_multiplex_enrichment_df = coms_multiplex_enrichment_df.merge(gene_phenotype_df[['phenotype', 'name']].drop_duplicates(), left_on=\"label\", right_on=\"phenotype\", how=\"left\").drop('phenotype', axis=1).rename(columns={'name':'phenotype_name'})\n",
    "coms_multiplex_enrichment_df.to_csv(os.path.join(COMS_DIR, 'coms_multiplex_enrichment_all_hpo_all_genes.csv'), index=False)"
   ]
  },
  {
   "cell_type": "markdown",
   "metadata": {},
   "source": [
    "### Experimental HPO enrichment"
   ]
  },
  {
   "cell_type": "code",
   "execution_count": null,
   "metadata": {},
   "outputs": [],
   "source": [
    "def format_gene_phenotype_asscoiations_matrix(df):\n",
    "    df = df[~df['HPO'].isin(ignore)]\n",
    "    df[\"HPO\"] = df[\"HPO\"].str.replace(\"_\", \":\")\n",
    "    df = df[[\"Gene\", \"HPO\", \"final_score\"]]\n",
    "    df = pd.pivot_table(df, values='final_score', index=['Gene'],columns=['HPO'])\n",
    "    df = df.fillna(0)\n",
    "    df = df.loc[:, df.columns.isin(ea_phenotypes)]\n",
    "    return df"
   ]
  },
  {
   "cell_type": "code",
   "execution_count": null,
   "metadata": {},
   "outputs": [],
   "source": [
    "# HPO associations for each gene in the network\n",
    "\n",
    "# all genes in the network as enrichment background\n",
    "if WES:\n",
    "    hpo_associations = pd.read_csv(os.path.join(NET_GEN_DIR, 'hpo_association_scores_wes.csv'))\n",
    "else:\n",
    "    hpo_associations = pd.read_csv(os.path.join(NET_GEN_DIR, 'hpo_association_scores.csv'))\n",
    "    \n",
    "# all genes in Phen2Gene knowledge base as enrichment background\n",
    "hpo_associations_all = pd.read_csv(os.path.join(NET_GEN_DIR, 'hpo_association_scores_all.csv'))\n",
    "\n",
    "ignore_df = pd.read_csv(os.path.join(PHENOTYPES_DIR, 'ignore_phenotypes.csv'))\n",
    "ignore = set(ignore_df['phenotype'])\n",
    "\n",
    "all_genes = set(hpo_associations_all[\"Gene\"])\n",
    "all_genes = list(all_genes)\n",
    "\n",
    "hpo_associations = format_gene_phenotype_asscoiations_matrix(hpo_associations)\n",
    "hpo_associations_all = format_gene_phenotype_asscoiations_matrix(hpo_associations_all)\n",
    "network_nodes = list(gene_ppi.nodes) # PPI network, phenotype network, and multiplex network have same nodes"
   ]
  },
  {
   "cell_type": "code",
   "execution_count": null,
   "metadata": {},
   "outputs": [],
   "source": [
    "def calculate_phenotype_enrichment(coms, output_path, all_genes_background=False, num_trials=1000):\n",
    "    result = np.zeros((len(list(hpo_associations.columns)), len(coms)))\n",
    "    for mod_num, com in enumerate(coms):     \n",
    "        com_size = len(com)\n",
    "        if WES and com_size < 5:\n",
    "            break\n",
    "        if not WES and com_size < 20:\n",
    "            break\n",
    "        print('Module', mod_num + 1)\n",
    "        \n",
    "        if all_genes_background:\n",
    "            hpo_actual = hpo_associations_all[hpo_associations_all.index.isin(com)]\n",
    "        else:\n",
    "            hpo_actual = hpo_associations[hpo_associations.index.isin(com)]\n",
    "        hpo_actual = np.mean(hpo_actual, axis=0)\n",
    "\n",
    "        for i in range(num_trials):\n",
    "            if i % 100 == 0:\n",
    "                print(f\"Trial {i}/{num_trials}\")\n",
    "            if all_genes_background: # sample from all genes in Phen2Gene knowledge base\n",
    "                sample = random.sample(all_genes, com_size)\n",
    "                hpo_sample = hpo_associations_all[hpo_associations_all.index.isin(sample)]\n",
    "            else:\n",
    "                sample = random.sample(network_nodes, com_size)\n",
    "                hpo_sample = hpo_associations[hpo_associations.index.isin(sample)]\n",
    "            hpo_sample = np.mean(hpo_sample, axis=0)\n",
    "            result[:,mod_num] = result[:,mod_num] + np.less(hpo_actual, hpo_sample)\n",
    "\n",
    "    result_df = pd.DataFrame(result)\n",
    "    result_df.columns = list(np.arange(1, len(coms)+1))\n",
    "    result_df.index = list(hpo_associations.columns)\n",
    "    temp = result_df.reset_index()\n",
    "    result_df = pd.melt(temp, id_vars=['index'], value_vars=list(result_df.columns))\n",
    "    result_df.columns = [\"HPO\", \"module\", \"p_val\"]\n",
    "    result_df[\"p_val\"] = result_df[\"p_val\"]/1000\n",
    "    result_df.to_csv(output_path)"
   ]
  },
  {
   "cell_type": "code",
   "execution_count": null,
   "metadata": {},
   "outputs": [],
   "source": [
    "calculate_phenotype_enrichment(coms_multiplex.communities, os.path.join(COMS_DIR,'coms_multiplex_phenotype_enrichment.csv'), all_genes_background=False)"
   ]
  },
  {
   "cell_type": "code",
   "execution_count": null,
   "metadata": {},
   "outputs": [],
   "source": [
    "calculate_phenotype_enrichment(coms_multiplex.communities, os.path.join(COMS_DIR,'coms_multiplex_phenotype_enrichment_all.csv'), all_genes_background=True)\n"
   ]
  },
  {
   "cell_type": "code",
   "execution_count": null,
   "metadata": {},
   "outputs": [],
   "source": [
    "calculate_phenotype_enrichment(coms_ppi.communities, os.path.join(COMS_DIR,'coms_ppi_phenotype_enrichment.csv'), all_genes_background=False)\n"
   ]
  },
  {
   "cell_type": "code",
   "execution_count": null,
   "metadata": {},
   "outputs": [],
   "source": [
    "calculate_phenotype_enrichment(coms_ppi.communities, os.path.join(COMS_DIR,'coms_ppi_phenotype_enrichment_all.csv'), all_genes_background=True)\n"
   ]
  },
  {
   "cell_type": "code",
   "execution_count": null,
   "metadata": {},
   "outputs": [],
   "source": [
    "calculate_phenotype_enrichment(coms_phenotype.communities, os.path.join(COMS_DIR,'coms_phenotype_phenotype_enrichment.csv'), all_genes_background=False)\n"
   ]
  },
  {
   "cell_type": "code",
   "execution_count": null,
   "metadata": {},
   "outputs": [],
   "source": [
    "calculate_phenotype_enrichment(coms_phenotype.communities, os.path.join(COMS_DIR,'coms_phenotype_phenotype_enrichment_all.csv'), all_genes_background=True)\n"
   ]
  },
  {
   "cell_type": "code",
   "execution_count": null,
   "metadata": {},
   "outputs": [],
   "source": []
  }
 ],
 "metadata": {
  "kernelspec": {
   "display_name": "Python 3",
   "language": "python",
   "name": "python3"
  },
  "language_info": {
   "codemirror_mode": {
    "name": "ipython",
    "version": 3
   },
   "file_extension": ".py",
   "mimetype": "text/x-python",
   "name": "python",
   "nbconvert_exporter": "python",
   "pygments_lexer": "ipython3",
   "version": "3.7.4"
  }
 },
 "nbformat": 4,
 "nbformat_minor": 2
}
