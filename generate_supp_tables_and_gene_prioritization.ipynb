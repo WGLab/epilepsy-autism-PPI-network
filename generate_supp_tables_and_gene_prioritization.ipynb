{
 "cells": [
  {
   "cell_type": "markdown",
   "metadata": {},
   "source": [
    "Variables to be updated/configured:"
   ]
  },
  {
   "cell_type": "code",
   "execution_count": 1,
   "metadata": {},
   "outputs": [],
   "source": [
    "INFO_DIR = \"network_info\" # path to directory with information on each gene/node in the multiplex network\n",
    "FIGURES_DIR = \"figures\" # path to directory where figures will the saved (creates the directory if it doesn't exist)\n",
    "TABLES_DIR = \"tables\" # path to directory containing .csv files representing tables (creates the directory if it doesn't exist)"
   ]
  },
  {
   "cell_type": "code",
   "execution_count": 2,
   "metadata": {},
   "outputs": [],
   "source": [
    "import matplotlib\n",
    "import matplotlib.pyplot as plt\n",
    "from matplotlib_venn import venn3\n",
    "import numpy as np\n",
    "import os\n",
    "import pandas as pd"
   ]
  },
  {
   "cell_type": "code",
   "execution_count": 3,
   "metadata": {},
   "outputs": [],
   "source": [
    "if not os.path.exists(TABLES_DIR):\n",
    "    os.makedirs(TABLES_DIR)\n",
    "if not os.path.exists(FIGURES_DIR):\n",
    "    os.makedirs(FIGURES_DIR)"
   ]
  },
  {
   "cell_type": "code",
   "execution_count": 4,
   "metadata": {},
   "outputs": [],
   "source": [
    "font = {'size'   : 12}\n",
    "matplotlib.rc('font', **font)"
   ]
  },
  {
   "cell_type": "code",
   "execution_count": 5,
   "metadata": {},
   "outputs": [],
   "source": [
    "info_wes_df = pd.read_csv(os.path.join(INFO_DIR, 'info_wes_df.csv'))\n",
    "info_df = pd.read_csv(os.path.join(INFO_DIR, 'info_df.csv'))\n",
    "info_wes = info_wes_df[['gene', 'module_multiplex']].rename(columns={'module_multiplex': 'module_multiplex_wes'})\n",
    "info_df = info_df.merge(info_wes, on='gene', how='left')\n",
    "info_df['average_degree'] = (info_df['ppi_degree'] + info_df['phenotype_degree']) / 2\n",
    "info_df['average_bc'] = (info_df['ppi_betweenness'] + info_df['phenotype_betweenness']) / 2"
   ]
  },
  {
   "cell_type": "markdown",
   "metadata": {},
   "source": [
    "# Generates part of Supplemental Tables 2 and 3"
   ]
  },
  {
   "cell_type": "code",
   "execution_count": 6,
   "metadata": {},
   "outputs": [],
   "source": [
    "temp = []\n",
    "for mod in range(1, 15):\n",
    "    mod_df = info_df[info_df['module_multiplex']==mod]\n",
    "    e1_genes = ', '.join(list(mod_df[mod_df['e1']==1]['gene']))\n",
    "    e2_genes = ', '.join(list(mod_df[mod_df['e2']==1]['gene']))\n",
    "    e3_genes = ', '.join(list(mod_df[mod_df['e3']==1]['gene']))\n",
    "    e4_genes = ', '.join(list(mod_df[mod_df['e4']==1]['gene']))\n",
    "    a1_genes = ', '.join(list(mod_df[mod_df['a1']==1]['gene']))\n",
    "    a2_genes = ', '.join(list(mod_df[mod_df['a2']==1]['gene']))\n",
    "    a3_genes = ', '.join(list(mod_df[mod_df['a3']==1]['gene']))\n",
    "    as_genes = ', '.join(list(mod_df[mod_df['as']==1]['gene']))\n",
    "    common_all = ', '.join(list(mod_df[mod_df['common_all']==1]['gene']))\n",
    "    common_hc = ', '.join(list(mod_df[mod_df['common']==1]['gene']))\n",
    "    temp.append([mod, len(mod_df), e1_genes, e2_genes, e3_genes, e4_genes, a1_genes, a2_genes, a3_genes, as_genes, common_all, common_hc])\n",
    "df = pd.DataFrame(temp)\n",
    "df.to_csv(os.path.join(TABLES_DIR, 'supplemental_table.csv'), index=False)"
   ]
  },
  {
   "cell_type": "code",
   "execution_count": 7,
   "metadata": {},
   "outputs": [],
   "source": [
    "temp = []\n",
    "for mod in range(1, 15):\n",
    "    mod_df = info_wes_df[info_wes_df['module_multiplex']==mod]\n",
    "    \n",
    "    e1_genes = ', '.join(list(mod_df[mod_df['e1']==1]['gene']))\n",
    "    e2_genes = ', '.join(list(mod_df[mod_df['e2']==1]['gene']))\n",
    "    e3_genes = ', '.join(list(mod_df[mod_df['e3']==1]['gene']))\n",
    "    e4_genes = ', '.join(list(mod_df[mod_df['e4']==1]['gene']))\n",
    "    a1_genes = ', '.join(list(mod_df[mod_df['a1']==1]['gene']))\n",
    "    a2_genes = ', '.join(list(mod_df[mod_df['a2']==1]['gene']))\n",
    "    a3_genes = ', '.join(list(mod_df[mod_df['a3']==1]['gene']))\n",
    "    as_genes = ', '.join(list(mod_df[mod_df['as']==1]['gene']))\n",
    "    \n",
    "    common_all = ', '.join(list(mod_df[mod_df['common_all']==1]['gene']))\n",
    "    common_hc = ', '.join(list(mod_df[mod_df['common']==1]['gene']))\n",
    "    \n",
    "    temp.append([mod, len(mod_df), e1_genes, e2_genes, e3_genes, e4_genes, a1_genes, a2_genes, a3_genes, as_genes, common_all, common_hc])\n",
    "df = pd.DataFrame(temp)\n",
    "df.to_csv(os.path.join(TABLES_DIR, 'supplemental_table_wes.csv'), index=False)"
   ]
  },
  {
   "cell_type": "markdown",
   "metadata": {},
   "source": [
    "# Gene prioritization"
   ]
  },
  {
   "cell_type": "code",
   "execution_count": 8,
   "metadata": {},
   "outputs": [],
   "source": [
    "m3 = info_df[info_df['module_multiplex']==3]\n",
    "m3_genes = set(m3['gene'])\n",
    "m6 = info_df[info_df['module_multiplex']==6]\n",
    "m6_genes = set(m6['gene'])\n",
    "\n",
    "m2_wes = info_wes_df[info_wes_df['module_multiplex']==2]\n",
    "m2_wes_genes = set(m2_wes['gene'])\n",
    "m7_wes = info_wes_df[info_wes_df['module_multiplex']==7]\n",
    "m7_wes_genes = set(m7_wes['gene'])"
   ]
  },
  {
   "cell_type": "code",
   "execution_count": 9,
   "metadata": {},
   "outputs": [
    {
     "data": {
      "image/png": "[encoded data removed]",
      "text/plain": [
       "<Figure size 432x288 with 1 Axes>"
      ]
     },
     "metadata": {},
     "output_type": "display_data"
    }
   ],
   "source": [
    "# venn diagram of epilepsy- and autism-associated genes\n",
    "v = venn3([ m2_wes_genes, m6_genes, m3_genes], set_labels = ('Module 2 WES', 'Module 6', 'Module 3'))\n",
    "v.get_patch_by_id('010').set_color('deeppink')\n",
    "v.get_patch_by_id('001').set_color('limegreen')\n",
    "v.get_patch_by_id('100').set_color('forestgreen')\n",
    "\n",
    "plt.annotate('DLG4', xy=v.get_label_by_id('010').get_position() + np.array([0.37, 0.05]), xytext=(-30,+70),\n",
    "             ha='center', textcoords='offset points', bbox=dict(boxstyle='round,pad=0.5', fc='gray', alpha=0.1),\n",
    "             arrowprops=dict(arrowstyle='->', connectionstyle='arc3,rad=0.5',color='gray'))\n",
    "plt.annotate('ANK2\\nCACNA1E\\nCACNA2D3\\nGRIA2', xy=v.get_label_by_id('100').get_position() + np.array([0.1, 0.05]), xytext=(+90,+70),\n",
    "             ha='center', textcoords='offset points', bbox=dict(boxstyle='round,pad=0.5', fc='gray', alpha=0.1),\n",
    "             arrowprops=dict(arrowstyle='->', connectionstyle='arc3,rad=0.5',color='gray'))\n",
    "\n",
    "plt.tight_layout()\n",
    "plt.savefig(FIGURES_DIR + \"/venn_diagram_prioritize.png\", dpi=600)"
   ]
  },
  {
   "cell_type": "markdown",
   "metadata": {},
   "source": [
    "### Generates Table 2 and 3"
   ]
  },
  {
   "cell_type": "code",
   "execution_count": 10,
   "metadata": {},
   "outputs": [],
   "source": [
    "m3.sort_values(by='average_degree', ascending=False).head(20)[['gene', 'ppi_degree', 'phenotype_degree', 'annotated_type']].to_csv(os.path.join(TABLES_DIR, 'm3_degree.csv'), index=False)\n",
    "m3.sort_values(by='average_bc', ascending=False).head(20)[['gene', 'ppi_betweenness', 'phenotype_betweenness', 'annotated_type']].to_csv(os.path.join(TABLES_DIR, 'm3_bc.csv'), index=False)\n",
    "m6.sort_values(by='average_degree', ascending=False).head(20)[['gene', 'ppi_degree', 'phenotype_degree', 'annotated_type']].to_csv(os.path.join(TABLES_DIR, 'm6_degree.csv'), index=False)\n",
    "m6.sort_values(by='average_bc', ascending=False).head(20)[['gene', 'ppi_betweenness', 'phenotype_betweenness', 'annotated_type']].to_csv(os.path.join(TABLES_DIR, 'm6_bc.csv'), index=False)\n"
   ]
  }
 ],
 "metadata": {
  "kernelspec": {
   "display_name": "Python 3",
   "language": "python",
   "name": "python3"
  },
  "language_info": {
   "codemirror_mode": {
    "name": "ipython",
    "version": 3
   },
   "file_extension": ".py",
   "mimetype": "text/x-python",
   "name": "python",
   "nbconvert_exporter": "python",
   "pygments_lexer": "ipython3",
   "version": "3.7.4"
  }
 },
 "nbformat": 4,
 "nbformat_minor": 2
}
