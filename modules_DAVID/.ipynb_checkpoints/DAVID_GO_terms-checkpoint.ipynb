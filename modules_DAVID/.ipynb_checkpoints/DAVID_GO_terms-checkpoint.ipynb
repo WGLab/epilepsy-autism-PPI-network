{
 "cells": [
  {
   "cell_type": "code",
   "execution_count": 1,
   "metadata": {},
   "outputs": [],
   "source": [
    "import pandas as pd"
   ]
  },
  {
   "cell_type": "code",
   "execution_count": 2,
   "metadata": {},
   "outputs": [],
   "source": [
    "df = pd.DataFrame()\n",
    "\n",
    "alpha = 0.05\n",
    "for m in range(1,18):\n",
    "    \n",
    "    # bp\n",
    "    temp = pd.read_csv(str(m)+\"_\"+\"bp.txt\", sep=\"\\t\")\n",
    "    temp = temp.sort_values(by=\"Bonferroni\")\n",
    "    temp = temp[temp[\"Bonferroni\"] < alpha]\n",
    "    \n",
    "    bp_terms = []\n",
    "    for i, row in temp.iterrows():\n",
    "        if i == 10:\n",
    "            break\n",
    "        bp_terms.append(row[\"Term\"] + \",\" + str(row[\"Count\"]) + \",\" + str(row[\"Bonferroni\"]))\n",
    "        \n",
    "    # cc\n",
    "    temp = pd.read_csv(str(m)+\"_\"+\"cc.txt\", sep=\"\\t\")\n",
    "    temp = temp.sort_values(by=\"Bonferroni\")\n",
    "    temp = temp[temp[\"Bonferroni\"] < alpha]\n",
    "    \n",
    "    cc_terms = []\n",
    "    for i, row in temp.iterrows():\n",
    "        if i == 10:\n",
    "            break\n",
    "        cc_terms.append(row[\"Term\"] + \",\" + str(row[\"Count\"]) + \",\" + str(row[\"Bonferroni\"]))\n",
    "        \n",
    "    # mf\n",
    "    temp = pd.read_csv(str(m)+\"_\"+\"mf.txt\", sep=\"\\t\")\n",
    "    temp = temp.sort_values(by=\"Bonferroni\")\n",
    "    temp = temp[temp[\"Bonferroni\"] < alpha]\n",
    "    \n",
    "    mf_terms = []\n",
    "    for i, row in temp.iterrows():\n",
    "        if i == 10:\n",
    "            break\n",
    "        mf_terms.append(row[\"Term\"] + \",\" + str(row[\"Count\"]) + \",\" + str(row[\"Bonferroni\"]))\n",
    "    \n",
    "    \n",
    "    temp_df = pd.DataFrame({\"GO_termps_bp\": \";\".join(bp_terms), \n",
    "                         \"GO_terms_mf\": \";\".join(mf_terms),\n",
    "                         \"GO_terms_cc\": \";\".join(cc_terms),\n",
    "                        }, index=[m-1])\n",
    "    df = df.append(temp_df)"
   ]
  },
  {
   "cell_type": "code",
   "execution_count": 3,
   "metadata": {},
   "outputs": [],
   "source": [
    "df.to_csv(\"DAVID_GO_terms.csv\", index=False)"
   ]
  },
  {
   "cell_type": "code",
   "execution_count": null,
   "metadata": {},
   "outputs": [],
   "source": []
  }
 ],
 "metadata": {
  "kernelspec": {
   "display_name": "Python 3",
   "language": "python",
   "name": "python3"
  },
  "language_info": {
   "codemirror_mode": {
    "name": "ipython",
    "version": 3
   },
   "file_extension": ".py",
   "mimetype": "text/x-python",
   "name": "python",
   "nbconvert_exporter": "python",
   "pygments_lexer": "ipython3",
   "version": "3.7.4"
  }
 },
 "nbformat": 4,
 "nbformat_minor": 2
}
