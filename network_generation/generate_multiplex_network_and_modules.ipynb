{
 "cells": [
  {
   "cell_type": "markdown",
   "metadata": {},
   "source": [
    "Variables to be updated/configured:"
   ]
  },
  {
   "cell_type": "code",
   "execution_count": null,
   "metadata": {},
   "outputs": [],
   "source": [
    "WES = False # False if running for the larger epilepsy-autism multiplex network, True if running for the WES multiplex network\n",
    "\n",
    "if WES:\n",
    "    FIGURES_DIR = \"./../figures_wes\" # path to directory where figures will the saved (creates the directory if it doesn't exist)\n",
    "    COMS_DIR = \"./../communities_wes\" # path to directory containing information on the communities in the network\n",
    "else:\n",
    "    FIGURES_DIR = \"./../figures\" # path to directory where figures will the saved (creates the directory if it doesn't exist)\n",
    "    COMS_DIR = \"./../communities\" # path to directory containing information on the communities in the network\n",
    "    \n",
    "GRAPH_DIR = \"./../gexf_files\" # path to directory where the .gexf files are located\n",
    "NET_GEN_DIR = \"./../network_generation\" # path to directory for network generation"
   ]
  },
  {
   "cell_type": "markdown",
   "metadata": {},
   "source": [
    "# Setup"
   ]
  },
  {
   "cell_type": "code",
   "execution_count": null,
   "metadata": {
    "scrolled": true
   },
   "outputs": [],
   "source": [
    "# network packages\n",
    "from cdlib import algorithms, evaluation\n",
    "import igraph as ig\n",
    "import louvain\n",
    "import networkx as nx\n",
    "from networkx.readwrite.gexf import read_gexf\n",
    "\n",
    "# visualization packages\n",
    "import matplotlib\n",
    "import matplotlib.pyplot as plt\n",
    "\n",
    "# other packages\n",
    "import os\n",
    "import numpy as np\n",
    "import pandas as pd"
   ]
  },
  {
   "cell_type": "code",
   "execution_count": null,
   "metadata": {},
   "outputs": [],
   "source": [
    "if not os.path.exists(FIGURES_DIR):\n",
    "    os.makedirs(FIGURES_DIR)"
   ]
  },
  {
   "cell_type": "code",
   "execution_count": null,
   "metadata": {},
   "outputs": [],
   "source": [
    "if WES:\n",
    "    gene_phenotype_filename = 'gene-phenotype-wes-1-500.gexf'\n",
    "    gene_ppi_filename = \"gene-ppi-wes-700.gexf\"\n",
    "    gene_union_filename = 'gene-union-wes.gexf'\n",
    "    gene_list_filename = \"genes_wes.txt\"\n",
    "else:\n",
    "    gene_phenotype_filename = 'gene-phenotype-1-1000.gexf'\n",
    "    gene_ppi_filename = 'gene-ppi-700.gexf'\n",
    "    gene_union_filename = 'gene-union.gexf'\n",
    "    gene_list_filename = \"genes.txt\"\n",
    "      \n",
    "gene_phenotype = read_gexf(os.path.join(GRAPH_DIR, gene_phenotype_filename))\n",
    "gene_ppi = read_gexf(os.path.join(GRAPH_DIR, gene_ppi_filename))\n",
    "node_df = pd.read_csv(os.path.join(NET_GEN_DIR, gene_list_filename))\n",
    "gene_phenotype_filename_update = gene_phenotype_filename.replace('.gexf', '-update.gexf')\n",
    "gene_ppi_filename_update = gene_ppi_filename.replace('.gexf', '-update.gexf')"
   ]
  },
  {
   "cell_type": "code",
   "execution_count": null,
   "metadata": {},
   "outputs": [],
   "source": [
    "gene_to_id = pd.Series(node_df.index.values,index=node_df['gene_symbol']).to_dict()\n",
    "id_to_gene = pd.Series(node_df['gene_symbol'].values).to_dict()"
   ]
  },
  {
   "cell_type": "code",
   "execution_count": null,
   "metadata": {},
   "outputs": [],
   "source": [
    "# wrapper for communities\n",
    "class Coms:\n",
    "    def __init__(self, communities):\n",
    "        self.communities = communities\n",
    "        self.overlap = None\n",
    "        \n",
    "# get Coms class with genes from annotated networkx graph\n",
    "def get_coms_from_graph(G):    \n",
    "    max_module = max([G.nodes[node]['module'] for node in G.nodes])\n",
    "    partition = []\n",
    "    for i in range(max_module):\n",
    "        partition.append([])\n",
    "    for node in G.nodes:\n",
    "        mod = G.nodes[node]['module']\n",
    "        partition[mod-1] = partition[mod-1] + [node]\n",
    "    coms = Coms(partition)\n",
    "    return coms\n",
    "\n",
    "# takes partition with IDs and converts to Coms class with genes\n",
    "def partition_to_genes(partition):\n",
    "    partition_genes = []\n",
    "    for com in partition:\n",
    "        com_genes = []\n",
    "        for g in com:\n",
    "            com_genes.append(id_to_gene[g])\n",
    "        partition_genes.append(com_genes) \n",
    "    coms = Coms(list(partition_genes))\n",
    "    return coms"
   ]
  },
  {
   "cell_type": "code",
   "execution_count": null,
   "metadata": {},
   "outputs": [],
   "source": [
    "# returns best partition of a graph using Louvain given resolution\n",
    "def test_resolution(resolutions, G_igraph, G, num_trials=1000):\n",
    "    result = []\n",
    "    best_partitions = []\n",
    "    for idx, r in enumerate(resolutions):\n",
    "        print(idx, r)\n",
    "        modularities = []\n",
    "        num_coms = []\n",
    "        \n",
    "        max_mod = -1\n",
    "        best_partition = None\n",
    "        \n",
    "        for t in range(num_trials):\n",
    "            partition = louvain.find_partition(G_igraph, louvain.RBConfigurationVertexPartition, resolution_parameter=r)\n",
    "            coms = partition_to_genes(partition)\n",
    "            mod = evaluation.newman_girvan_modularity(G, coms).score\n",
    "            modularities.append(mod)\n",
    "            num_coms.append(len([com for com in list(partition) if len(com) > 1]))\n",
    "            \n",
    "            if mod > max_mod:\n",
    "                best_partition = partition\n",
    "                max_mod = mod\n",
    "            \n",
    "        result.append((r, np.mean(modularities), np.std(modularities), np.mean(num_coms), np.std(num_coms)))\n",
    "        best_partitions.append(best_partition)\n",
    "     \n",
    "    return result, best_partitions"
   ]
  },
  {
   "cell_type": "code",
   "execution_count": null,
   "metadata": {},
   "outputs": [],
   "source": [
    "# returns the best partition of a graph using Louvain and annotates the modules in the graph\n",
    "def get_best_partition(resolutions, G_igraph, G, G_name, filename, num_trials=1000):\n",
    "    result, best_partitions = test_resolution(resolutions, G_igraph, G, num_trials)\n",
    "    result_df = pd.DataFrame(result)\n",
    "    result_df.columns = [\"resolution\", \"modularity_mean\", \"modularity_std\", \"num_coms_mean\", \"num_coms_std\"]\n",
    "    result_df.to_csv(filename, index=False)\n",
    "    \n",
    "    best_index = result_df.sort_values(by=[\"modularity_mean\"], ascending=False).head(1).index.values[0]\n",
    "    best_partition = best_partitions[best_index]\n",
    "    coms = partition_to_genes(best_partition)\n",
    "    \n",
    "    for mod_num, com in enumerate(coms.communities, 1):\n",
    "        for g in com:\n",
    "            G.nodes[g]['module'] = mod_num\n",
    "    \n",
    "    print('Writing to', G_name)\n",
    "    nx.write_gexf(G, G_name)\n",
    "    return G"
   ]
  },
  {
   "cell_type": "markdown",
   "metadata": {},
   "source": [
    "# PPI and phenotype network community detection"
   ]
  },
  {
   "cell_type": "code",
   "execution_count": null,
   "metadata": {},
   "outputs": [],
   "source": [
    "# networkx to igraph\n",
    "G_phenotype = ig.Graph()\n",
    "G_phenotype.add_vertices([gene_to_id[i] for i in gene_phenotype.nodes])\n",
    "G_phenotype.add_edges([(gene_to_id[n1], gene_to_id[n2]) for n1, n2 in gene_phenotype.edges])\n",
    "\n",
    "G_ppi = ig.Graph()\n",
    "G_ppi.add_vertices([gene_to_id[i] for i in gene_ppi.nodes])\n",
    "G_ppi.add_edges([(gene_to_id[n1], gene_to_id[n2]) for n1, n2 in gene_ppi.edges])"
   ]
  },
  {
   "cell_type": "code",
   "execution_count": null,
   "metadata": {},
   "outputs": [],
   "source": [
    "resolutions = np.arange(0.2, 2.1, 0.2)\n",
    "gene_phenotype = get_best_partition(resolutions, G_phenotype, gene_phenotype, os.path.join(GRAPH_DIR, gene_phenotype_filename_update), os.path.join(COMS_DIR, gene_phenotype_filename + '_resolution_scan.csv'), num_trials=1000)\n"
   ]
  },
  {
   "cell_type": "code",
   "execution_count": null,
   "metadata": {
    "scrolled": true
   },
   "outputs": [],
   "source": [
    "resolutions = np.arange(0.2, 2.1, 0.2)\n",
    "gene_ppi = get_best_partition(resolutions, G_ppi, gene_ppi, os.path.join(GRAPH_DIR, gene_ppi_filename_update), os.path.join(COMS_DIR, gene_ppi_filename + '_resolution_scan.csv'), num_trials=1000)\n"
   ]
  },
  {
   "cell_type": "markdown",
   "metadata": {},
   "source": [
    "### Plot resolution vs modularity and resolution vs module size figures"
   ]
  },
  {
   "cell_type": "code",
   "execution_count": null,
   "metadata": {},
   "outputs": [],
   "source": [
    "gene_phenotype_resolutions = pd.read_csv(os.path.join(COMS_DIR, gene_phenotype_filename + '_resolution_scan.csv'))\n",
    "gene_phenotype_res = gene_phenotype_resolutions.sort_values(by=[\"modularity_mean\"], ascending=False).head(1)['resolution'].values[0]\n",
    "gene_ppi_resolutions = pd.read_csv(os.path.join(COMS_DIR, gene_ppi_filename + '_resolution_scan.csv'))\n",
    "gene_ppi_res = gene_ppi_resolutions.sort_values(by=[\"modularity_mean\"], ascending=False).head(1)['resolution'].values[0]\n"
   ]
  },
  {
   "cell_type": "code",
   "execution_count": null,
   "metadata": {},
   "outputs": [],
   "source": [
    "fig, ax1 = plt.subplots(figsize=(10,8))\n",
    "\n",
    "x = list(gene_phenotype_resolutions['resolution'])\n",
    "ax1.set_xlabel('Louvain resolution')\n",
    "ax1.set_ylabel('Modularity')\n",
    "\n",
    "ax1.errorbar(x, gene_ppi_resolutions['modularity_mean'], yerr=gene_ppi_resolutions['modularity_std'], fmt='o', label=\"PPI\")\n",
    "ax1.errorbar(x, gene_phenotype_resolutions['modularity_mean'], yerr=gene_phenotype_resolutions['modularity_std'], fmt='o', label=\"Phenotype\")\n",
    "\n",
    "plt.legend(loc='lower right')\n",
    "plt.savefig(os.path.join(FIGURES_DIR, \"resolution_vs_modularity.png\"), dpi=300)\n",
    "plt.show()"
   ]
  },
  {
   "cell_type": "code",
   "execution_count": null,
   "metadata": {},
   "outputs": [],
   "source": [
    "fig, ax1 = plt.subplots(figsize=(10,8))\n",
    "\n",
    "x = list(gene_phenotype_resolutions['resolution'])\n",
    "ax1.set_xlabel('Louvain resolution')\n",
    "ax1.set_ylabel('Number of modules (at least 2 genes)')\n",
    "\n",
    "ax1.errorbar(x, gene_ppi_resolutions['num_coms_mean'], yerr=gene_ppi_resolutions['num_coms_std'], fmt='o', label=\"PPI\")\n",
    "ax1.errorbar(x, gene_phenotype_resolutions['num_coms_mean'], yerr=gene_phenotype_resolutions['num_coms_std'], fmt='o',label=\"Phenotype\")\n",
    "\n",
    "plt.legend(loc='lower right')\n",
    "plt.savefig(os.path.join(FIGURES_DIR, \"resolution_vs_num_coms.png\"), dpi=300)\n",
    "plt.show()"
   ]
  },
  {
   "cell_type": "markdown",
   "metadata": {},
   "source": [
    "# Generate multiplex communities"
   ]
  },
  {
   "cell_type": "code",
   "execution_count": null,
   "metadata": {},
   "outputs": [],
   "source": [
    "def get_coms_from_membership(membership):\n",
    "    partition = [[] for _ in range(max(membership)+1)]\n",
    "    for id_, mod in enumerate(membership):\n",
    "        gene = id_to_gene[id_]\n",
    "        partition[mod] = partition[mod] + [gene]\n",
    "    coms = Coms(partition)\n",
    "    return coms"
   ]
  },
  {
   "cell_type": "code",
   "execution_count": null,
   "metadata": {},
   "outputs": [],
   "source": [
    "# find multiplex networks\n",
    "num_trials = 1000\n",
    "max_mod = -1\n",
    "best_membership = None\n",
    "for i in range(num_trials):\n",
    "    if i % 100 == 0:\n",
    "        print(\"Trial\", i)\n",
    "    \n",
    "    membership, improv = louvain.find_partition_multiplex([G_phenotype, G_ppi],louvain.ModularityVertexPartition)\n",
    "    coms_multiplex = get_coms_from_membership(membership)\n",
    "    mod_phenotype = evaluation.newman_girvan_modularity(gene_phenotype, coms_multiplex).score\n",
    "    mod_ppi = evaluation.newman_girvan_modularity(gene_ppi, coms_multiplex).score\n",
    "    total_mod = mod_phenotype + mod_ppi\n",
    "    if total_mod > max_mod:\n",
    "        max_mod = total_mod\n",
    "        best_membership = membership"
   ]
  },
  {
   "cell_type": "markdown",
   "metadata": {},
   "source": [
    "# Annotate graph (.gexf) nodes and edges "
   ]
  },
  {
   "cell_type": "code",
   "execution_count": null,
   "metadata": {},
   "outputs": [],
   "source": [
    "# update gexf files with module associations\n",
    "def annotate_coms(coms, G, module_type, filename):\n",
    "    for mod_num, com in enumerate(coms, 1):\n",
    "        for g in com:\n",
    "            G.nodes[g][module_type] = mod_num\n",
    "    nx.write_gexf(G, filename)"
   ]
  },
  {
   "cell_type": "code",
   "execution_count": null,
   "metadata": {},
   "outputs": [],
   "source": [
    "gene_phenotype = read_gexf(os.path.join(GRAPH_DIR, gene_phenotype_filename_update))\n",
    "gene_ppi = read_gexf(os.path.join(GRAPH_DIR, gene_ppi_filename_update))\n",
    "coms_phenotype = get_coms_from_graph(gene_phenotype)\n",
    "coms_ppi = get_coms_from_graph(gene_ppi)"
   ]
  },
  {
   "cell_type": "code",
   "execution_count": null,
   "metadata": {},
   "outputs": [],
   "source": [
    "annotate_coms(coms_multiplex.communities, gene_ppi, 'multiplex_module', os.path.join(GRAPH_DIR, gene_ppi_filename_update))\n",
    "annotate_coms(coms_ppi.communities, gene_ppi, 'ppi_module',  os.path.join(GRAPH_DIR, gene_ppi_filename_update))\n",
    "annotate_coms(coms_phenotype.communities, gene_ppi, 'phenotype_module',  os.path.join(GRAPH_DIR, gene_ppi_filename_update))\n",
    "\n",
    "annotate_coms(coms_multiplex.communities, gene_phenotype, 'multiplex_module', os.path.join(GRAPH_DIR, gene_phenotype_filename_update))\n",
    "annotate_coms(coms_ppi.communities, gene_phenotype, 'ppi_module', os.path.join(GRAPH_DIR, gene_phenotype_filename_update))\n",
    "annotate_coms(coms_phenotype.communities, gene_phenotype, 'phenotype_module', os.path.join(GRAPH_DIR, gene_phenotype_filename_update))"
   ]
  },
  {
   "cell_type": "code",
   "execution_count": null,
   "metadata": {},
   "outputs": [],
   "source": [
    "G_intersection = nx.intersection(gene_phenotype, gene_ppi)\n",
    "gene_ppi_specific = nx.difference(gene_ppi, G_intersection)\n",
    "gene_phenotype_specific = nx.difference(gene_phenotype, G_intersection)\n",
    "intersecting_edges = G_intersection.edges\n",
    "\n",
    "G_union = nx.Graph()\n",
    "G_union.add_nodes_from(gene_ppi.nodes)\n",
    "G_union.add_edges_from(intersecting_edges)\n",
    "G_union.add_edges_from(gene_ppi_specific.edges)\n",
    "G_union.add_edges_from(gene_phenotype_specific.edges)\n",
    "\n",
    "for e in gene_phenotype_specific.edges:\n",
    "    G_union[e[0]][e[1]]['edge_type'] = 'phenotype'\n",
    "for e in gene_ppi_specific.edges:\n",
    "    G_union[e[0]][e[1]]['edge_type'] = 'ppi'\n",
    "for e in intersecting_edges:\n",
    "    G_union[e[0]][e[1]]['edge_type'] = 'both'\n"
   ]
  },
  {
   "cell_type": "code",
   "execution_count": null,
   "metadata": {},
   "outputs": [],
   "source": [
    "print(nx.info(G_union))"
   ]
  },
  {
   "cell_type": "code",
   "execution_count": null,
   "metadata": {},
   "outputs": [],
   "source": [
    "annotate_coms(coms_multiplex.communities, G_union, 'module', os.path.join(GRAPH_DIR, gene_union_filename))\n",
    "annotate_coms(coms_multiplex.communities, G_union, 'multiplex_module', os.path.join(GRAPH_DIR, gene_union_filename))\n",
    "annotate_coms(coms_ppi.communities, G_union, 'ppi_module', os.path.join(GRAPH_DIR, gene_union_filename))\n",
    "annotate_coms(coms_phenotype.communities, G_union, 'phenotype_module', os.path.join(GRAPH_DIR, gene_union_filename))"
   ]
  },
  {
   "cell_type": "code",
   "execution_count": null,
   "metadata": {},
   "outputs": [],
   "source": []
  }
 ],
 "metadata": {
  "kernelspec": {
   "display_name": "Python 3",
   "language": "python",
   "name": "python3"
  },
  "language_info": {
   "codemirror_mode": {
    "name": "ipython",
    "version": 3
   },
   "file_extension": ".py",
   "mimetype": "text/x-python",
   "name": "python",
   "nbconvert_exporter": "python",
   "pygments_lexer": "ipython3",
   "version": "3.7.4"
  }
 },
 "nbformat": 4,
 "nbformat_minor": 2
}
