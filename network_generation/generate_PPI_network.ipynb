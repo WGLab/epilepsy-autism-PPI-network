{
 "cells": [
  {
   "cell_type": "markdown",
   "metadata": {},
   "source": [
    "Variables to be updated/configured:"
   ]
  },
  {
   "cell_type": "code",
   "execution_count": null,
   "metadata": {},
   "outputs": [],
   "source": [
    "WES = False # False if running for the larger epilepsy-autism multiplex network, True if running for the WES multiplex network\n",
    "GRAPH_DIR = \"./../gexf_files\" # path to directory where the .gexf files are located\n",
    "GENE_SETS_DIR = \"./../gene_sets\" # path to directory containing .csv files with genes sets"
   ]
  },
  {
   "cell_type": "code",
   "execution_count": null,
   "metadata": {},
   "outputs": [],
   "source": [
    "import os\n",
    "import networkx as nx\n",
    "import pandas as pd\n",
    "import seaborn as sns"
   ]
  },
  {
   "cell_type": "markdown",
   "metadata": {},
   "source": [
    "# Create the protein-protein interaction (PPI) network"
   ]
  },
  {
   "cell_type": "code",
   "execution_count": null,
   "metadata": {},
   "outputs": [],
   "source": [
    "protein_interactions_df = pd.read_csv(\"9606.protein.links.v11.0.txt\", sep=' ')"
   ]
  },
  {
   "cell_type": "markdown",
   "metadata": {},
   "source": [
    "### Filter the PPI network to only use edges with a weight >= 700 (high confidence)"
   ]
  },
  {
   "cell_type": "code",
   "execution_count": null,
   "metadata": {},
   "outputs": [],
   "source": [
    "THRESHOLD = 700\n",
    "ppi_filtered = protein_interactions_df[(protein_interactions_df[\"combined_score\"] >= THRESHOLD)]"
   ]
  },
  {
   "cell_type": "markdown",
   "metadata": {},
   "source": [
    "### Merge PPI interactions with gene names"
   ]
  },
  {
   "cell_type": "code",
   "execution_count": null,
   "metadata": {},
   "outputs": [],
   "source": [
    "# replace gene names with the most updated one\n",
    "def update_genes(df, gene_col):\n",
    "    new_df = pd.DataFrame()\n",
    "    for i, row in df.iterrows():\n",
    "        replacements = {\n",
    "            \"ND1\": \"MT-ND1\",\n",
    "            \"ND4\": \"MT-ND4\",\n",
    "            \"TRNR1\": \"GFRA1\",\n",
    "            \"CCM1\": \"KRIT1\",\n",
    "            \"C19orf61\": \"SMG9\",\n",
    "            \"EIF2C4\": \"AGO4\",\n",
    "            \"HOXD\": [\"HOXD1\", \"HOXD3\", \"HOXD4\", \"HOXD8\", \"HOXD9\", \"HOXD10\", \"HOXD11\", \"HOXD12\", \"HOXD13\"],\n",
    "            \"ATP6\": \"MT-ATP6\",\n",
    "            \"APOE4\": \"APOE\",\n",
    "            \"ENSG00000173575\": \"CHD2\",\n",
    "            \"SCA2\": \"ATXN2\",\n",
    "            \"B3GNT1\": \"B4GAT1\",\n",
    "            \"COX3\": \"MT-CO3\",\n",
    "            \"ENSG00000086848\": \"ALG9\",\n",
    "            \"ATP8\": \"MT-ATP8\",\n",
    "            \"ND5\": \"MT-ND5\",\n",
    "            \"C2orf25\": \"MMADHC\",\n",
    "            \"PIG6\": \"PRODH\",\n",
    "            \"ENSG00000258947\": \"TUBB3\",\n",
    "            \"ADCK3\": \"COQ8A\", \n",
    "            \"COX1\": \"MT-CO1\",\n",
    "            \"DXS423E\": \"SMC1A\",\n",
    "            \"PCDHG\": [\"PCDHGA1\", \"PCDHGA2\", \"PCDHGA3\", \"PCDHGA4\", \"PCDHGA5\", \"PCDHGA6\", \"PCDHGA7\", \"PCDHGA8\", \"PCDHGA9\", \"PCDHGA10\", \"PCDHGA11\", \"PCDHGA12\", \\\n",
    "                      \"PCDHGB1\", \"PCDHGB2\", \"PCDHGB3\", \"PCDHGB4\", \"PCDHGB5\", \"PCDHGB6\", \"PCDHGB7\", \"PCDHGC3\", \"PCDHGC4\", \"PCDHGC5\"],\n",
    "            \"KIAA0226\": \"RUBCN\",\n",
    "            \"CYTB\": \"MT-CYB\",\n",
    "            \"KIAA0442\": \"AUTS2\",\n",
    "            \"KAL1\": \"ANOS1\",\n",
    "            \"BRP44L\": \"MPC1\",\n",
    "            \"KIAA1715\": \"LNPK\",\n",
    "            \"JMJD2C\": \"KDM4C\",\n",
    "            \"CCDC64\": \"BICDL1\" ,\n",
    "            \"KIAA2022\": \"NEXMIF\",\n",
    "            \"INADL\": \"PATJ\",\n",
    "            \"PIG6\": \"PRODH\",\n",
    "            \"PARK2\": \"PRKN\",\n",
    "            \"NDNL2\": \"NSMCE3\",\n",
    "            \"BZRAP1\": \"TSPOAP1\",\n",
    "            \"ERBB2IP\": \"ERBIN\",\n",
    "            \"HIST1H2BJ\": \"H2BC11\",\n",
    "            \"ADSS\": \"ADSS2\",\n",
    "            \"C15orf43\": \"TERB2\",\n",
    "            \"C16orf13\": \"METTL26\",\n",
    "            \"C11orf30\": \"EMSY\",\n",
    "            \"SUV420H1\": \"KMT5B\",\n",
    "            \"MKL2\": \"MRTFB\",\n",
    "            \"ENSG00000259159\": \"MFRP\",\n",
    "            \"MARCA2\":\"SMARCA2\",\n",
    "            \"C11orf82\": \"DDIAS\",\n",
    "            \"CSNK2B-LY6G5B-1181\": \"CSNK2B\",\n",
    "            'TCAF1': 'FAM115A', \n",
    "            'KCNMB2': 'ENSG00000275163', \n",
    "            'KIAA1009': 'CEP162', \n",
    "            'AGMO(alsoknownasTMEM195)': 'AGMO', \n",
    "            'PPIEL': 'PPIEL', \n",
    "            'GGTA1P': 'GGTA1', \n",
    "            'KIAA1239': 'NWD2', \n",
    "            'LINC01370': 'LINC01370', \n",
    "            'PCDHA@': ['PCDHA10', 'PCDHA9', 'PCDHA5', 'PCDHA11', 'PCDHA7', 'PCDHA3', 'PCDHA8', 'PCDHA2', 'PCDHA1', 'PCDHA13', 'PCDHA4', 'PCDHA6', 'PCDHA12'], \n",
    "            'MsrA': 'MSRA', \n",
    "            'DGCR6': 'ENSG00000183628', \n",
    "            'ZNF259': 'ZPR1', \n",
    "            'ADGRA2': 'GPR124', \n",
    "            'KIAA1430': 'CFAP97',     \n",
    "            'RNASE4': 'ENSG00000258818', \n",
    "            'C14orf166B': 'LRRC74A', \n",
    "            \"RP11-1055B8.7\": \"BAHCC1\",\n",
    "            \"ENSG00000272414\": \"FAM47E-STBD1\",\n",
    "            \"C5orf20\": \"DCANP1\",\n",
    "            \"SOGA2\": \"MTCL1\",\n",
    "            \"FAM194A\": \"ERICH6\"\n",
    "        }\n",
    "        gene = row[gene_col]\n",
    "        if gene in replacements:\n",
    "            replacement = replacements[gene]\n",
    "            if isinstance(replacement, str):\n",
    "                print(\"Replaced\", gene, \"with\", replacement)\n",
    "                row[gene_col] = replacement\n",
    "                new_df = new_df.append(row)\n",
    "            else:\n",
    "                for j in range(len(replacement)):\n",
    "                    print(\"Replaced\", gene, \"with\", replacement[j])\n",
    "                    row[gene_col] = replacement[j]\n",
    "                    new_df = new_df.append(row)\n",
    "        else:\n",
    "            new_df = new_df.append(row)\n",
    "                    \n",
    "    return new_df"
   ]
  },
  {
   "cell_type": "code",
   "execution_count": null,
   "metadata": {},
   "outputs": [],
   "source": [
    "info_df = pd.read_csv(\"9606.protein.info.v11.0.txt\", sep='\\t')\n",
    "info_df = update_genes(info_df, \"preferred_name\")"
   ]
  },
  {
   "cell_type": "code",
   "execution_count": null,
   "metadata": {},
   "outputs": [],
   "source": [
    "PPI_all_genes = set(info_df['preferred_name'])\n",
    "print(\"There are\", str(len(PPI_all_genes)), \"nodes in the PPI network\")"
   ]
  },
  {
   "cell_type": "code",
   "execution_count": null,
   "metadata": {},
   "outputs": [],
   "source": [
    "id_to_protein = info_df[[\"protein_external_id\", \"preferred_name\"]]\n",
    "interactions_df = ppi_filtered.merge(id_to_protein, left_on=\"protein1\", right_on=\"protein_external_id\")\n",
    "interactions_df = interactions_df.merge(id_to_protein, left_on=\"protein2\", right_on=\"protein_external_id\")\n",
    "interactions_df = interactions_df[[\"preferred_name_x\", \"preferred_name_y\", \"combined_score\"]]\n",
    "interactions_df.columns = [\"protein1\", \"protein2\", \"combined_score\"]"
   ]
  },
  {
   "cell_type": "markdown",
   "metadata": {},
   "source": [
    "# Get epilepsy-associated genes\n",
    "### Epilepsy-assoicated genes are from Wang et al. (2017)\n",
    "### https://www.sciencedirect.com/science/article/pii/S1059131116302989"
   ]
  },
  {
   "cell_type": "code",
   "execution_count": null,
   "metadata": {},
   "outputs": [],
   "source": [
    "if WES:\n",
    "    epilepsy_df = pd.read_csv(os.path.join(GENE_SETS_DIR, \"WES_EPI_gene_burden_AC_1_Epi25_Collaborative_2019.csv\"), skiprows=2, nrows=200)\n",
    "    epilepsy_df = update_genes(epilepsy_df, \"Gene\")\n",
    "    epilepsy_genes = set(epilepsy_df[\"Gene\"])\n",
    "else:\n",
    "    epilepsy_df = pd.read_csv(os.path.join(GENE_SETS_DIR, \"epilepsy_genes_wang_2017_formatted.csv\"))\n",
    "    epilepsy_df = update_genes(epilepsy_df, \"gene\")\n",
    "    epilepsy_genes = set(epilepsy_df[\"gene\"])"
   ]
  },
  {
   "cell_type": "code",
   "execution_count": null,
   "metadata": {},
   "outputs": [],
   "source": [
    "# epilepsy genes not in STRING\n",
    "epilepsy_genes_not_found = set()\n",
    "for i in epilepsy_genes:\n",
    "    if not i in PPI_all_genes:\n",
    "        print(i)\n",
    "        epilepsy_genes_not_found.add(i)"
   ]
  },
  {
   "cell_type": "markdown",
   "metadata": {},
   "source": [
    "# Get autism-associated genes\n",
    "### Autism-assoicated genes are from SFARI Jan 3, 2020 release"
   ]
  },
  {
   "cell_type": "code",
   "execution_count": null,
   "metadata": {},
   "outputs": [],
   "source": [
    "if WES:\n",
    "    autism_df = pd.read_csv(os.path.join(GENE_SETS_DIR, \"WES_autism_Satterstrom_2020.csv\"), nrows=102)\n",
    "    autism_df = update_genes(autism_df, \"gene\")\n",
    "    autism_genes = set(autism_df[\"gene\"])\n",
    "else:\n",
    "    autism_df = pd.read_csv(os.path.join(GENE_SETS_DIR, \"SFARI-Gene_genes_01-03-2020release_01-05-2020export.csv\"))\n",
    "    autism_df = update_genes(autism_df, \"gene-symbol\")\n",
    "    autism_genes = set(autism_df[\"gene-symbol\"])"
   ]
  },
  {
   "cell_type": "code",
   "execution_count": null,
   "metadata": {},
   "outputs": [],
   "source": [
    "# autism genes not in STRING\n",
    "autism_genes_not_found = set()\n",
    "for i in autism_genes:\n",
    "    if not i in PPI_all_genes:\n",
    "        print(i)\n",
    "        autism_genes_not_found.add(i)"
   ]
  },
  {
   "cell_type": "markdown",
   "metadata": {},
   "source": [
    "# Create the epilepsy-autism PPI network"
   ]
  },
  {
   "cell_type": "code",
   "execution_count": null,
   "metadata": {},
   "outputs": [],
   "source": [
    "# creates a PPI network using NetworkX given a list of genes \n",
    "def create_network(gene_list):\n",
    "        \n",
    "    all_genes_df = pd.DataFrame(gene_list)\n",
    "    all_genes_df.columns = ['gene']\n",
    "        \n",
    "    temp = interactions_df.merge(all_genes_df, left_on=\"protein1\", right_on=\"gene\").drop(\"gene\", axis=1)\n",
    "    ea_interactions_df = temp.merge(all_genes_df, left_on=\"protein2\", right_on=\"gene\").drop(\"gene\", axis=1)\n",
    "    ea_interactions_df = ea_interactions_df[ea_interactions_df[\"protein1\"] != ea_interactions_df[\"protein2\"]]\n",
    "    \n",
    "    G = nx.Graph()\n",
    "    G.add_nodes_from(all_genes_df['gene'])\n",
    "    for index, row in ea_interactions_df.iterrows():\n",
    "        if row['combined_score'] > 0:\n",
    "            G.add_edge(row['protein1'], row['protein2'])\n",
    "            \n",
    "    \n",
    "    print(\"There are\", len(G.nodes), \"nodes in the PPI network\")\n",
    "    print(\"There are\", len(G.edges), \"edges in the PPI network\")\n",
    "    \n",
    "    return G"
   ]
  },
  {
   "cell_type": "code",
   "execution_count": null,
   "metadata": {},
   "outputs": [],
   "source": [
    "all_genes = epilepsy_genes.union(autism_genes)\n",
    "common_genes = epilepsy_genes.intersection(autism_genes)\n",
    "\n",
    "print(f\"Total number of genes {len(all_genes)}\")\n",
    "print(f\"Number of epilepsy genes {len(epilepsy_genes)}\")\n",
    "print(f\"Number of autism genes {len(autism_genes)}\")\n",
    "print(f\"Number of common genes {len(common_genes)}\")"
   ]
  },
  {
   "cell_type": "code",
   "execution_count": null,
   "metadata": {},
   "outputs": [],
   "source": [
    "# create epilepsy-autism PPI network\n",
    "G = create_network(all_genes)\n",
    "if WES:\n",
    "    nx.write_gexf(G, os.path.join(GRAPH_DIR, \"gene-ppi-wes-700.gexf\"))\n",
    "else:\n",
    "    nx.write_gexf(G, os.path.join(GRAPH_DIR, \"gene-ppi-700.gexf\"))"
   ]
  },
  {
   "cell_type": "code",
   "execution_count": null,
   "metadata": {},
   "outputs": [],
   "source": [
    "print(nx.info(G))"
   ]
  },
  {
   "cell_type": "code",
   "execution_count": null,
   "metadata": {},
   "outputs": [],
   "source": [
    "# export list of genes used to generate phenotype network\n",
    "if WES:\n",
    "    output_filename = 'genes_wes.txt'\n",
    "else:\n",
    "    output_filename = 'genes.txt'\n",
    "    \n",
    "with open(output_filename, 'w') as f:\n",
    "    f.write('gene_symbol' + '\\n')\n",
    "    for n in G.nodes:\n",
    "        f.write(n + \"\\n\")"
   ]
  }
 ],
 "metadata": {
  "kernelspec": {
   "display_name": "Python 3",
   "language": "python",
   "name": "python3"
  },
  "language_info": {
   "codemirror_mode": {
    "name": "ipython",
    "version": 3
   },
   "file_extension": ".py",
   "mimetype": "text/x-python",
   "name": "python",
   "nbconvert_exporter": "python",
   "pygments_lexer": "ipython3",
   "version": "3.7.4"
  }
 },
 "nbformat": 4,
 "nbformat_minor": 2
}
