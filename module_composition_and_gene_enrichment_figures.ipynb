{
 "cells": [
  {
   "cell_type": "markdown",
   "metadata": {},
   "source": [
    "Variables to be updated/configured:"
   ]
  },
  {
   "cell_type": "code",
   "execution_count": null,
   "metadata": {},
   "outputs": [],
   "source": [
    "WES = False # False if running for the larger epilepsy-autism multiplex network, True if running for the WES multiplex network\n",
    "\n",
    "if WES:\n",
    "    FIGURES_DIR = \"figures_wes\" # path to directory where figures will the saved (creates the directory if it doesn't exist)\n",
    "    COMS_DIR = \"communities_wes\" # path to directory containing information on the communities in the network\n",
    "else:\n",
    "    FIGURES_DIR = \"figures\" # path to directory where figures will the saved (creates the directory if it doesn't exist)\n",
    "    COMS_DIR = \"communities\" # path to directory containing information on the communities in the network\n",
    "    \n",
    "GRAPH_DIR = \"gexf_files\" # path to directory where the .gexf files are located\n",
    "INFO_DIR = \"network_info\" # path to directory with information on each gene/node in the multiplex network (creates the directory if it doesn't exist)\n",
    "GENE_SETS_DIR = \"gene_sets\" # path to directory containing .csv files with genes sets"
   ]
  },
  {
   "cell_type": "markdown",
   "metadata": {},
   "source": [
    "# Setup"
   ]
  },
  {
   "cell_type": "code",
   "execution_count": null,
   "metadata": {
    "scrolled": true
   },
   "outputs": [],
   "source": [
    "# network packages\n",
    "import networkx as nx\n",
    "from networkx.readwrite.gexf import read_gexf\n",
    "\n",
    "# visualization packages\n",
    "import matplotlib\n",
    "import matplotlib.pyplot as plt\n",
    "from matplotlib_venn import venn2\n",
    "import seaborn as sns\n",
    "\n",
    "# other packages\n",
    "from collections import Counter\n",
    "import os\n",
    "import numpy as np\n",
    "import pandas as pd\n",
    "from statsmodels.stats.multitest import fdrcorrection"
   ]
  },
  {
   "cell_type": "code",
   "execution_count": null,
   "metadata": {},
   "outputs": [],
   "source": [
    "if not os.path.exists(FIGURES_DIR):\n",
    "    os.makedirs(FIGURES_DIR)\n",
    "    \n",
    "if not os.path.exists(INFO_DIR):\n",
    "    os.makedirs(INFO_DIR)"
   ]
  },
  {
   "cell_type": "code",
   "execution_count": null,
   "metadata": {},
   "outputs": [],
   "source": [
    "# plotting settings\n",
    "font = {'size': 18}\n",
    "matplotlib.rc('font', **font)"
   ]
  },
  {
   "cell_type": "code",
   "execution_count": null,
   "metadata": {},
   "outputs": [],
   "source": [
    "if WES:\n",
    "    gene_phenotype_filename = 'gene-phenotype-wes-1-500-update.gexf'\n",
    "    gene_ppi_filename = \"gene-ppi-wes-700-update.gexf\"\n",
    "    gene_union_filename = 'gene-union-wes.gexf'\n",
    "    info_filename = 'info_wes_df.csv'\n",
    "else:\n",
    "    gene_phenotype_filename = 'gene-phenotype-1-1000-update.gexf'\n",
    "    gene_ppi_filename = 'gene-ppi-700-update.gexf'\n",
    "    gene_union_filename = 'gene-union.gexf'\n",
    "    info_filename = 'info_df.csv'\n",
    "    \n",
    "gene_phenotype = read_gexf(os.path.join(GRAPH_DIR, gene_phenotype_filename))\n",
    "gene_ppi = read_gexf(os.path.join(GRAPH_DIR, gene_ppi_filename))\n",
    "gene_union = read_gexf(os.path.join(GRAPH_DIR, gene_union_filename))"
   ]
  },
  {
   "cell_type": "code",
   "execution_count": null,
   "metadata": {},
   "outputs": [],
   "source": [
    "# wrapper for communities\n",
    "class Coms:\n",
    "    def __init__(self, communities):\n",
    "        self.communities = communities\n",
    "        self.overlap = None\n",
    "        \n",
    "# get Coms class with genes from annotated networkx graph\n",
    "def get_coms_from_graph(G):    \n",
    "    max_module = max([G.nodes[node]['module'] for node in G.nodes])\n",
    "    partition = []\n",
    "    for i in range(max_module):\n",
    "        partition.append([])\n",
    "    for node in G.nodes:\n",
    "        mod = G.nodes[node]['module']\n",
    "        partition[mod-1] = partition[mod-1] + [node]\n",
    "    coms = Coms(partition)\n",
    "    return coms\n",
    "\n",
    "# takes partition with IDs and converts to Coms class with genes\n",
    "def partition_to_genes(partition):\n",
    "    partition_genes = []\n",
    "    for com in partition:\n",
    "        com_genes = []\n",
    "        for g in com:\n",
    "            com_genes.append(id_to_gene[g])\n",
    "        partition_genes.append(com_genes) \n",
    "    coms = Coms(list(partition_genes))\n",
    "    return coms"
   ]
  },
  {
   "cell_type": "code",
   "execution_count": null,
   "metadata": {},
   "outputs": [],
   "source": [
    "coms_ppi = get_coms_from_graph(gene_ppi)\n",
    "coms_phenotype = get_coms_from_graph(gene_phenotype)\n",
    "coms_multiplex = get_coms_from_graph(gene_union)"
   ]
  },
  {
   "cell_type": "code",
   "execution_count": null,
   "metadata": {},
   "outputs": [],
   "source": [
    "# standardize gene names\n",
    "def update_genes(df, gene_col):\n",
    "    new_df = pd.DataFrame()\n",
    "    for i, row in df.iterrows():\n",
    "        replacements = {\n",
    "            \"ND1\": \"MT-ND1\",\n",
    "            \"ND4\": \"MT-ND4\",\n",
    "            \"TRNR1\": \"GFRA1\",\n",
    "            \"CCM1\": \"KRIT1\",\n",
    "            \"C19orf61\": \"SMG9\",\n",
    "            \"EIF2C4\": \"AGO4\",\n",
    "            \"HOXD\": [\"HOXD1\", \"HOXD3\", \"HOXD4\", \"HOXD8\", \"HOXD9\", \"HOXD10\", \"HOXD11\", \"HOXD12\", \"HOXD13\"],\n",
    "            \"ATP6\": \"MT-ATP6\",\n",
    "            \"APOE4\": \"APOE\",\n",
    "            \"ENSG00000173575\": \"CHD2\",\n",
    "            \"SCA2\": \"ATXN2\",\n",
    "            \"B3GNT1\": \"B4GAT1\",\n",
    "            \"COX3\": \"MT-CO3\",\n",
    "            \"ENSG00000086848\": \"ALG9\",\n",
    "            \"ATP8\": \"MT-ATP8\",\n",
    "            \"ND5\": \"MT-ND5\",\n",
    "            \"C2orf25\": \"MMADHC\",\n",
    "            \"PIG6\": \"PRODH\",\n",
    "            \"ENSG00000258947\": \"TUBB3\",\n",
    "            \"ADCK3\": \"COQ8A\", \n",
    "            \"COX1\": \"MT-CO1\",\n",
    "            \"DXS423E\": \"SMC1A\",\n",
    "            \"PCDHG\": [\"PCDHGA1\", \"PCDHGA2\", \"PCDHGA3\", \"PCDHGA4\", \"PCDHGA5\", \"PCDHGA6\", \"PCDHGA7\", \"PCDHGA8\", \"PCDHGA9\", \"PCDHGA10\", \"PCDHGA11\", \"PCDHGA12\", \\\n",
    "                      \"PCDHGB1\", \"PCDHGB2\", \"PCDHGB3\", \"PCDHGB4\", \"PCDHGB5\", \"PCDHGB6\", \"PCDHGB7\", \"PCDHGC3\", \"PCDHGC4\", \"PCDHGC5\"],\n",
    "            \"KIAA0226\": \"RUBCN\",\n",
    "            \"CYTB\": \"MT-CYB\",\n",
    "            \"KIAA0442\": \"AUTS2\",\n",
    "            \"KAL1\": \"ANOS1\",\n",
    "            \"BRP44L\": \"MPC1\",\n",
    "            \"KIAA1715\": \"LNPK\",\n",
    "            \"JMJD2C\": \"KDM4C\",\n",
    "            \"CCDC64\": \"BICDL1\" ,\n",
    "            \"KIAA2022\": \"NEXMIF\",\n",
    "            \"INADL\": \"PATJ\",\n",
    "            \"PIG6\": \"PRODH\",\n",
    "            \"PARK2\": \"PRKN\",\n",
    "            \"NDNL2\": \"NSMCE3\",\n",
    "            \"BZRAP1\": \"TSPOAP1\",\n",
    "            \"ERBB2IP\": \"ERBIN\",\n",
    "            \"HIST1H2BJ\": \"H2BC11\",\n",
    "            \"ADSS\": \"ADSS2\",\n",
    "            \"C15orf43\": \"TERB2\",\n",
    "            \"C16orf13\": \"METTL26\",\n",
    "            \"C11orf30\": \"EMSY\",\n",
    "            \"SUV420H1\": \"KMT5B\",\n",
    "            \"MKL2\": \"MRTFB\",\n",
    "            \"ENSG00000259159\": \"MFRP\",\n",
    "            \"MARCA2\":\"SMARCA2\",\n",
    "            \"C11orf82\": \"DDIAS\",\n",
    "            \"CSNK2B-LY6G5B-1181\": \"CSNK2B\",\n",
    "            'TCAF1': 'FAM115A', \n",
    "            'KCNMB2': 'ENSG00000275163', \n",
    "            'KIAA1009': 'CEP162', \n",
    "            'AGMO(alsoknownasTMEM195)': 'AGMO', \n",
    "            'PPIEL': 'PPIEL', \n",
    "            'GGTA1P': 'GGTA1', \n",
    "            'KIAA1239': 'NWD2', \n",
    "            'LINC01370': 'LINC01370', \n",
    "            'PCDHA@': ['PCDHA10', 'PCDHA9', 'PCDHA5', 'PCDHA11', 'PCDHA7', 'PCDHA3', 'PCDHA8', 'PCDHA2', 'PCDHA1', 'PCDHA13', 'PCDHA4', 'PCDHA6', 'PCDHA12'], \n",
    "            'MsrA': 'MSRA', \n",
    "            'DGCR6': 'ENSG00000183628', \n",
    "            'ZNF259': 'ZPR1', \n",
    "            'ADGRA2': 'GPR124', \n",
    "            'KIAA1430': 'CFAP97',     \n",
    "            'RNASE4': 'ENSG00000258818', \n",
    "            'C14orf166B': 'LRRC74A', \n",
    "            \"RP11-1055B8.7\": \"BAHCC1\",\n",
    "            \"ENSG00000272414\": \"FAM47E-STBD1\",\n",
    "            \"C5orf20\": \"DCANP1\",\n",
    "            \"SOGA2\": \"MTCL1\",\n",
    "            \"FAM194A\": \"ERICH6\"\n",
    "        }\n",
    "        \n",
    "        gene = row[gene_col]\n",
    "        if gene in replacements:\n",
    "            replacement = replacements[gene]\n",
    "            if isinstance(replacement, str):\n",
    "                print(\"Replaced\", gene, \"with\", replacement)\n",
    "                row[gene_col] = replacement\n",
    "                new_df = new_df.append(row)\n",
    "            else:\n",
    "                for j in range(len(replacement)):\n",
    "                    print(\"Replaced\", gene, \"with\", replacement[j])\n",
    "                    row[gene_col] = replacement[j]\n",
    "                    new_df = new_df.append(row)\n",
    "        else:\n",
    "            new_df = new_df.append(row)\n",
    "                    \n",
    "    return new_df"
   ]
  },
  {
   "cell_type": "code",
   "execution_count": null,
   "metadata": {},
   "outputs": [],
   "source": [
    "# color palettes for figures\n",
    "col_pal_a = sns.color_palette(\"OrRd_r\")\n",
    "col_pal_a = [col_pal_a[0], [sum(x)/2 for x in zip(col_pal_a[1], col_pal_a[2])], col_pal_a[3], col_pal_a[5]]\n",
    "sns.palplot(col_pal_a)\n",
    "col_pal_e = sns.color_palette(\"GnBu_r\")\n",
    "col_pal_e = [col_pal_e[0], col_pal_e[2], col_pal_e[3], col_pal_e[5]]\n",
    "sns.palplot(col_pal_e)"
   ]
  },
  {
   "cell_type": "code",
   "execution_count": null,
   "metadata": {},
   "outputs": [],
   "source": [
    "epilepsy_genes_df = pd.read_csv(os.path.join(GENE_SETS_DIR, \"epilepsy_genes_wang_2017_formatted.csv\"))\n",
    "epilepsy_genes_df = update_genes(epilepsy_genes_df, 'gene')\n",
    "epilepsy_genes = set(epilepsy_genes_df['gene'])"
   ]
  },
  {
   "cell_type": "code",
   "execution_count": null,
   "metadata": {},
   "outputs": [],
   "source": [
    "autism_genes_df = pd.read_csv(os.path.join(GENE_SETS_DIR, \"SFARI-Gene_genes_01-03-2020release_01-05-2020export.csv\"))\n",
    "autism_genes_df = update_genes(autism_genes_df, 'gene-symbol')\n",
    "autism_genes = set(autism_genes_df['gene-symbol'])"
   ]
  },
  {
   "cell_type": "code",
   "execution_count": null,
   "metadata": {},
   "outputs": [],
   "source": [
    "autism_wes_df = pd.read_csv(os.path.join(GENE_SETS_DIR, \"WES_autism_Satterstrom_2020.csv\"), nrows=102)\n",
    "autism_wes_df = update_genes(autism_wes_df, \"gene\")\n",
    "autism_wes_genes = set(autism_wes_df['gene'])\n",
    "\n",
    "epilepsy_wes_df = pd.read_csv(os.path.join(GENE_SETS_DIR, \"WES_EPI_gene_burden_AC_1_Epi25_Collaborative_2019.csv\"), nrows=200, skiprows=2)\n",
    "epilepsy_wes_df = update_genes(epilepsy_wes_df, 'Gene')\n",
    "epilepsy_wes_genes = set(epilepsy_wes_df['Gene'])"
   ]
  },
  {
   "cell_type": "code",
   "execution_count": null,
   "metadata": {},
   "outputs": [],
   "source": [
    "# venn diagram of epilepsy- and autism-associated genes\n",
    "c = venn2([epilepsy_genes, autism_genes], set_labels = ('Epilepsy-associated Genes', 'Autism-associated Genes'))\n",
    "c.get_patch_by_id('10').set_color(col_pal_e[0])\n",
    "c.get_patch_by_id('01').set_color(col_pal_a[0])\n",
    "c.get_patch_by_id('11').set_color(\"purple\")\n",
    "\n",
    "for text in c.set_labels:\n",
    "    text.set_fontsize(12)\n",
    "for text in c.subset_labels:\n",
    "    text.set_fontsize(12)\n",
    "    \n",
    "plt.tight_layout()\n",
    "plt.savefig(FIGURES_DIR + \"/venn_diagram.png\", dpi=600)"
   ]
  },
  {
   "cell_type": "markdown",
   "metadata": {},
   "source": [
    "# Calculate network statistics and save to file"
   ]
  },
  {
   "cell_type": "code",
   "execution_count": null,
   "metadata": {},
   "outputs": [],
   "source": [
    "# get degree and betweenness centrality of genes in network\n",
    "def get_network_stats(gene_ppi, gene_phenotype, coms_multiplex, coms_ppi, coms_phenotype, groups, group_names):\n",
    "    \n",
    "    node_df = pd.DataFrame({\"gene\": list(gene_ppi.nodes)})\n",
    "    node_df = node_df.sort_values(by='gene').reset_index().drop(\"index\", axis=1)\n",
    "    \n",
    "    print('Calculating degree')\n",
    "    # degree\n",
    "    degrees = list(gene_ppi.degree(gene_ppi.nodes))\n",
    "    degrees_sorted_by_gene = sorted(degrees, key=lambda x: x[0])\n",
    "    degrees_sorted_by_gene_list = [i[1] for i in degrees_sorted_by_gene]\n",
    "    node_df[\"ppi_degree\"] = degrees_sorted_by_gene_list\n",
    "    \n",
    "    degrees = list(gene_phenotype.degree(gene_phenotype.nodes))\n",
    "    degrees_sorted_by_gene = sorted(degrees, key=lambda x: x[0])\n",
    "    degrees_sorted_by_gene_list = [i[1] for i in degrees_sorted_by_gene]\n",
    "    node_df[\"phenotype_degree\"] = degrees_sorted_by_gene_list\n",
    "    \n",
    "    print('Calculating BC')\n",
    "    # betweenness centrality\n",
    "    betweenness_centrality = nx.algorithms.centrality.betweenness_centrality(gene_ppi)\n",
    "    betweenness_centrality_sorted_by_gene = sorted(betweenness_centrality.items(), key=lambda x: x[0])\n",
    "    bc_sorted_by_gene_list = [i[1] for i in betweenness_centrality_sorted_by_gene]\n",
    "    node_df['ppi_betweenness'] = bc_sorted_by_gene_list\n",
    "    \n",
    "    betweenness_centrality = nx.algorithms.centrality.betweenness_centrality(gene_phenotype)\n",
    "    betweenness_centrality_sorted_by_gene = sorted(betweenness_centrality.items(), key=lambda x: x[0])\n",
    "    bc_sorted_by_gene_list = [i[1] for i in betweenness_centrality_sorted_by_gene]\n",
    "    node_df['phenotype_betweenness'] = bc_sorted_by_gene_list\n",
    "    \n",
    "    print('Annotating modules and groups')\n",
    "    # module\n",
    "    modules = []\n",
    "    for mod_num, com in enumerate(coms_multiplex, 1):\n",
    "        for g in com:\n",
    "            modules.append([g, mod_num])\n",
    "    modules_df = pd.DataFrame(modules)\n",
    "    modules_df.columns = ['gene', 'module_multiplex']\n",
    "    node_df = node_df.merge(modules_df, on=\"gene\", how=\"left\")\n",
    "    \n",
    "    modules = []\n",
    "    for mod_num, com in enumerate(coms_ppi, 1):\n",
    "        for g in com:\n",
    "            modules.append([g, mod_num])\n",
    "    modules_df = pd.DataFrame(modules)\n",
    "    modules_df.columns = ['gene', 'module_ppi']\n",
    "    node_df = node_df.merge(modules_df, on=\"gene\", how=\"left\")\n",
    "    \n",
    "    modules = []\n",
    "    for mod_num, com in enumerate(coms_phenotype, 1):\n",
    "        for g in com:\n",
    "            modules.append([g, mod_num])\n",
    "    modules_df = pd.DataFrame(modules)\n",
    "    modules_df.columns = ['gene', 'module_phenotype']\n",
    "    node_df = node_df.merge(modules_df, on=\"gene\", how=\"left\")\n",
    "    \n",
    "    for i in range(len(groups)):\n",
    "        genes = groups[i]\n",
    "        temp_df = pd.DataFrame(genes, columns=['gene'])\n",
    "        temp_df[group_names[i]] = 1\n",
    "        node_df = node_df.merge(temp_df, on='gene', how='left')\n",
    "        \n",
    "    gene_types = []\n",
    "    e_groups = [e1, e2, e3, e4]\n",
    "    a_groups = [a1, a2, a3, a_s]\n",
    "    for n in sorted(gene_ppi.nodes):\n",
    "        gtype = \"\"\n",
    "        idx = 1\n",
    "        for group in e_groups:\n",
    "            if n in group:\n",
    "                gtype += \"Epilepsy \" + str(idx) + \", \"\n",
    "            idx += 1\n",
    "            \n",
    "        idx = 1\n",
    "        for group in a_groups:\n",
    "            if n in group:\n",
    "                if idx == 4:\n",
    "                    gtype += \"Autism S, \"\n",
    "                else:\n",
    "                    gtype += \"Autism \" + str(idx) + \", \"\n",
    "            idx += 1\n",
    "        \n",
    "        gtype = gtype[:-2]\n",
    "        gene_types.append(gtype)\n",
    "    \n",
    "    node_df['annotated_type'] = gene_types\n",
    "    node_df = node_df.fillna(0)\n",
    "    return node_df\n",
    "    "
   ]
  },
  {
   "cell_type": "code",
   "execution_count": null,
   "metadata": {},
   "outputs": [],
   "source": [
    "e1 = set(epilepsy_genes_df[epilepsy_genes_df['score']==1]['gene'])\n",
    "e2 = set(epilepsy_genes_df[epilepsy_genes_df['score']==2]['gene'])\n",
    "e3 = set(epilepsy_genes_df[epilepsy_genes_df['score']==3]['gene'])\n",
    "e4 = set(epilepsy_genes_df[epilepsy_genes_df['score']==4]['gene'])\n",
    "\n",
    "a1 = set(autism_genes_df[autism_genes_df['gene-score']==1]['gene-symbol'])\n",
    "a2 = set(autism_genes_df[autism_genes_df['gene-score']==2]['gene-symbol'])\n",
    "a3 = set(autism_genes_df[autism_genes_df['gene-score']==3]['gene-symbol'])\n",
    "a_s = set(autism_genes_df[autism_genes_df['syndromic']==1]['gene-symbol'])\n",
    "\n",
    "common_genes = e1.intersection(a1)\n",
    "common_all_genes = epilepsy_genes.intersection(autism_genes)\n",
    "common_wes_genes = autism_wes_genes.intersection(epilepsy_wes_genes)"
   ]
  },
  {
   "cell_type": "code",
   "execution_count": null,
   "metadata": {},
   "outputs": [],
   "source": [
    "print(\"Number of Epilepsy 1 genes:\", len(e1))\n",
    "print(\"Number of Epilepsy 2 genes:\", len(e2))\n",
    "print(\"Number of Epilepsy 3 genes:\", len(e3))\n",
    "print(\"Number of Epilepsy 4 genes:\", len(e4))\n",
    "print()\n",
    "print(\"Number of Autism 1 genes:\", len(a1))\n",
    "print(\"Number of Autism 2 genes:\", len(a2))\n",
    "print(\"Number of Autism 3 genes:\", len(a3))\n",
    "print(\"Number of Autism S genes:\", len(a_s))"
   ]
  },
  {
   "cell_type": "code",
   "execution_count": null,
   "metadata": {},
   "outputs": [],
   "source": [
    "a_specific = autism_genes.difference(common_all_genes)\n",
    "e_specific = epilepsy_genes.difference(common_all_genes)\n",
    "\n",
    "groups = [epilepsy_wes_genes, e1, e2, e3, e4, autism_wes_genes, a1, a2, a3, a_s, common_wes_genes, common_genes, common_all_genes, a_specific, e_specific]\n",
    "group_names = ['e_wes', 'e1', 'e2', 'e3', 'e4', 'a_wes', 'a1', 'a2', 'a3', 'as', 'common_wes', 'common', 'common_all', 'a_specific', 'e_specific'] \n",
    "info_df = get_network_stats(gene_ppi, gene_phenotype, coms_multiplex.communities, coms_ppi.communities, coms_phenotype.communities, groups, group_names)\n",
    "\n",
    "if WES:\n",
    "    info_df.to_csv(os.path.join(INFO_DIR, 'info_wes_df.csv'), index=False)\n",
    "else:\n",
    "    info_df.to_csv(os.path.join(INFO_DIR, 'info_df.csv'), index=False)"
   ]
  },
  {
   "cell_type": "markdown",
   "metadata": {},
   "source": [
    "# Module sizes and compositions"
   ]
  },
  {
   "cell_type": "code",
   "execution_count": null,
   "metadata": {},
   "outputs": [],
   "source": [
    "info_df = pd.read_csv(os.path.join(INFO_DIR, info_filename))"
   ]
  },
  {
   "cell_type": "code",
   "execution_count": null,
   "metadata": {},
   "outputs": [],
   "source": [
    "cutoff = 30\n",
    "com_ppi_sizes = [len(com) for com in coms_ppi.communities][:cutoff]\n",
    "com_phenotype_sizes = [len(com) for com in coms_phenotype.communities][:cutoff]\n",
    "com_multiplex_sizes = [len(com) for com in coms_multiplex.communities][:cutoff]"
   ]
  },
  {
   "cell_type": "code",
   "execution_count": null,
   "metadata": {},
   "outputs": [],
   "source": [
    "plt.figure(figsize=(16,8))\n",
    "alpha = 0.5\n",
    "x_ppi = np.arange(1,len(com_ppi_sizes)+1)\n",
    "plt.scatter(x_ppi, com_ppi_sizes, label=\"PPI\", alpha=alpha, s=60)\n",
    "\n",
    "x_phenotype = np.arange(1,len(com_phenotype_sizes)+1)\n",
    "plt.scatter(x_phenotype, com_phenotype_sizes, label=\"Phenotype\", alpha=alpha, s=60)\n",
    "\n",
    "x_multiplex = np.arange(1,len(com_multiplex_sizes)+1)\n",
    "plt.scatter(x_multiplex, com_multiplex_sizes, label=\"Multiplex\", alpha=alpha, s=60)\n",
    "\n",
    "plt.legend()\n",
    "plt.xlabel('Module number')\n",
    "plt.xticks(np.arange(1,len(com_ppi_sizes)+1))\n",
    "plt.ylabel('Module size')\n",
    "plt.savefig(os.path.join(FIGURES_DIR, \"module_sizes.png\"), dpi=600)\n",
    "plt.show()"
   ]
  },
  {
   "cell_type": "code",
   "execution_count": null,
   "metadata": {},
   "outputs": [],
   "source": [
    "def get_counts(df):\n",
    "    d = [0] * 11\n",
    "    for i, row in df.iterrows():\n",
    "        if row['common'] == 1:\n",
    "            d[0] += 1\n",
    "        elif row['common_all'] == 1:\n",
    "            d[1] += 1\n",
    "        elif row['e1'] == 1:\n",
    "            d[2] += 1\n",
    "        elif row['e2'] == 1:\n",
    "            d[3] += 1\n",
    "        elif row['e3'] == 1:\n",
    "            d[4] += 1\n",
    "        elif row['e4'] == 1:\n",
    "            d[5] += 1\n",
    "        elif row['a1'] == 1:\n",
    "            d[6] += 1\n",
    "        elif row['a2'] == 1:\n",
    "            d[7] += 1\n",
    "        elif row['a3'] == 1:\n",
    "            d[8] += 1\n",
    "        elif row['as'] == 1:\n",
    "            d[9] += 1\n",
    "        else:\n",
    "            if not WES:\n",
    "                raise Exception('unknown', row)\n",
    "            else:\n",
    "                d[10] += 1\n",
    "    return d"
   ]
  },
  {
   "cell_type": "code",
   "execution_count": null,
   "metadata": {},
   "outputs": [],
   "source": [
    "if WES:\n",
    "    top_modules = 9\n",
    "else:\n",
    "    top_modules = 14\n",
    "    \n",
    "if WES:\n",
    "    fig, ax = plt.subplots(nrows=3, ncols=3, num=top_modules, figsize=(20, 25))\n",
    "else:\n",
    "    fig, ax = plt.subplots(nrows=4, ncols=4, num=top_modules, figsize=(20, 25))\n",
    "    ax[-1, -1].axis('off')\n",
    "    ax[-1, -2].axis('off')\n",
    "\n",
    "font = {'size'   : 14}\n",
    "matplotlib.rc('font', **font)\n",
    "    \n",
    "mod_num = 1\n",
    "for row in ax:\n",
    "    for col in row:\n",
    "        if mod_num > top_modules:\n",
    "            continue\n",
    "        mod_df = info_df[info_df['module_multiplex']==mod_num]\n",
    "        \n",
    "        sizes = get_counts(mod_df)\n",
    "        if WES:\n",
    "            colors = ['purple', 'mediumorchid'] + col_pal_e + col_pal_a + ['grey']      \n",
    "            labels = ['common', 'common_all', 'e1', 'e2', 'e3', 'e4', 'a1', 'a2', 'a3', 'as', 'other']\n",
    "        else:\n",
    "            colors = ['purple', 'mediumorchid'] + col_pal_e + col_pal_a   \n",
    "            labels = ['common', 'common_all', 'e1', 'e2', 'e3', 'e4', 'a1', 'a2', 'a3', 'as']\n",
    "        \n",
    "        total = sum(sizes) \n",
    "        col.pie(sizes, colors=colors, textprops={'fontsize': 12}, pctdistance=0.8, autopct=lambda p: '{:.0f}'.format(p * total / 100) if p > 0 else \"\")\n",
    "        col.axis('equal')\n",
    "        col.set_title('Module ' + str(mod_num))\n",
    "    \n",
    "        mod_num +=1    \n",
    "        \n",
    "plt.figlegend(['Common (HC)', 'Common (All)', 'Epilepsy 1', 'Epilepsy 2', 'Epilepsy 3', 'Epilepsy 4', 'Autism 1', 'Autism 2', 'Autism 3', 'Autism S', 'Other'])\n",
    "plt.savefig(os.path.join(FIGURES_DIR, \"module_compositions.eps\"), dpi=600)    \n",
    "plt.show()"
   ]
  },
  {
   "cell_type": "markdown",
   "metadata": {},
   "source": [
    "# Gene enrichment in multiplex network"
   ]
  },
  {
   "cell_type": "code",
   "execution_count": null,
   "metadata": {},
   "outputs": [],
   "source": [
    "def get_enrichments_matrix(df):\n",
    "    \n",
    "    if WES:\n",
    "        plt_labels = [\"common_genes (WES)\", \"common_genes (HC)\", \"common_genes (all)\", \"epilepsy_WES_genes\", \"epilepsy_1_genes\", \"epilepsy_2_genes\", \"epilepsy_3_genes\", \"epilepsy_4_genes\", \"autism_WES_genes\", \"autism_1_genes\", \"autism_2_genes\", \"autism_3_genes\", \"autism_s_genes\", \"schizophrenia_genes\", \"BD_genes\", \"ID_genes\", \"BE_genes\"]\n",
    "        labels = [\"common_wes_genes\", \"common_genes\", \"common_genes_all\", \"epilepsy_WES_genes\", \"e1_genes\", \"e2_genes\", \"e3_genes\", \"e4_genes\", \"autism_WES_genes\", \"a1_genes\", \"a2_genes\", \"a3_genes\", \"as_genes\", \"schizophrenia_genes\", \"BD_genes\", \"ID_genes\", \"DE_genes\"]\n",
    "    else:\n",
    "        plt_labels = [\"common_genes (WES)\", \"common_genes (HC)\", \"common_genes (all)\", \"epilepsy_WES_genes\", \"epilepsy_1_genes\", \"epilepsy_2_genes\", \"epilepsy_3_genes\", \"epilepsy_4_genes\", \"autism_WES_genes\", \"autism_1_genes\", \"autism_2_genes\", \"autism_3_genes\", \"autism_s_genes\", \"schizophrenia_genes\", \"BD_genes\", \"ID_genes\", \"BE_genes\"]\n",
    "        labels = [\"common_wes_genes\", \"common_genes\", \"common_genes_all\", \"epilepsy_WES_genes\", \"e1_genes\", \"e2_genes\", \"e3_genes\", \"e4_genes\", \"autism_WES_genes\", \"a1_genes\", \"a2_genes\", \"a3_genes\", \"as_genes\", \"schizophrenia_genes\", \"BD_genes\", \"ID_genes\", \"DE_genes\"]\n",
    "      \n",
    "    enrichments = df[(~df['label'].str.contains('HP:'))&(df['label'].isin(labels))]\n",
    "    fdr_list = []\n",
    "    for mod_num in range(1, max(df['module'])+1):\n",
    "        rejected, fdr = fdrcorrection(list(enrichments[enrichments['module']==mod_num]['pval'])) # FDR correction\n",
    "        fdr_list = fdr_list + list(fdr)\n",
    "    enrichments['p_adjusted'] = fdr_list\n",
    "    enrichments['neg_log_pval'] = -np.log10(enrichments['p_adjusted'])\n",
    "    temp = []\n",
    "    for label in labels:\n",
    "        pvals = list(enrichments[enrichments['label']==label].sort_values(by='module')['neg_log_pval'])\n",
    "        temp.append(pvals)\n",
    "\n",
    "    plt_labels = [label.upper().replace(\"_\", \" \") for label in plt_labels]\n",
    "    enrichment_df = pd.DataFrame(temp)\n",
    "    enrichment_df.index = plt_labels\n",
    "    return enrichment_df\n"
   ]
  },
  {
   "cell_type": "code",
   "execution_count": null,
   "metadata": {
    "scrolled": true
   },
   "outputs": [],
   "source": [
    "def neg_log_p_val_label(x):\n",
    "    if x > -np.log10(0.01):\n",
    "        return \"***\"\n",
    "    elif x > -np.log10(0.05):\n",
    "        return \"**\"\n",
    "    elif x > -np.log10(0.1):\n",
    "        return \"*\"\n",
    "    else:\n",
    "        return \"\"\n",
    "\n",
    "def plot_enrichment(enrichment_df, mod_sizes, filename, vmax=None):\n",
    "\n",
    "    font = {'size'   : 14}\n",
    "    matplotlib.rc('font', **font)\n",
    "\n",
    "    num_mods = len(enrichment_df.columns)\n",
    "    plt.figure(figsize=(16,8))\n",
    "\n",
    "    xticklabels = []\n",
    "    for i in range(1, num_mods+1):\n",
    "        xticklabels.append(f'{str(i)}\\n({mod_sizes[i-1]})')\n",
    "    \n",
    "    labels_df = enrichment_df.applymap(lambda x: neg_log_p_val_label(x))\n",
    "\n",
    "    cmap = \"Blues\"\n",
    "    ax = sns.heatmap(enrichment_df, annot=labels_df, fmt=\"\", xticklabels = xticklabels, cbar_kws={'label': '-log10(FDR)'}, cmap=cmap, vmin=0, vmax=vmax)\n",
    "    colorbar = ax.collections[0].colorbar\n",
    "    \n",
    "    if vmax:\n",
    "        colorbar.set_ticks(np.arange(0, vmax+1, 10))\n",
    "        colorbar.set_ticklabels(list(np.arange(0, vmax, 10)) + [str(vmax) + \"+\"])\n",
    "\n",
    "    plt.xlabel('Module\\n(size)')\n",
    "    plt.ylabel('Gene group')\n",
    "    plt.tight_layout()\n",
    "\n",
    "    plt.savefig(filename, dpi=600)\n",
    "\n",
    "    plt.show()"
   ]
  },
  {
   "cell_type": "code",
   "execution_count": null,
   "metadata": {},
   "outputs": [],
   "source": [
    "if WES:\n",
    "    TOP_MODULES = 13\n",
    "else:\n",
    "    TOP_MODULES = 14\n",
    "\n",
    "coms_multiplex_enrichment_df = pd.read_csv(os.path.join(COMS_DIR, 'coms_multiplex_enrichment.csv'))\n",
    "enrichment_df = get_enrichments_matrix(coms_multiplex_enrichment_df)\n",
    "enrichment_df = enrichment_df.iloc[:,:TOP_MODULES]\n",
    "coms_multiplex_enrichment_df_all = pd.read_csv(os.path.join(COMS_DIR, 'coms_multiplex_enrichment_all_genes.csv'))\n",
    "enrichment_df_all = get_enrichments_matrix(coms_multiplex_enrichment_df_all)\n",
    "enrichment_df_all = enrichment_df_all.iloc[:,:TOP_MODULES]"
   ]
  },
  {
   "cell_type": "code",
   "execution_count": null,
   "metadata": {
    "scrolled": true
   },
   "outputs": [],
   "source": [
    "plot_enrichment(enrichment_df, com_multiplex_sizes, os.path.join(FIGURES_DIR, \"enrichment_analysis_multplex.png\"))"
   ]
  },
  {
   "cell_type": "code",
   "execution_count": null,
   "metadata": {
    "scrolled": true
   },
   "outputs": [],
   "source": [
    "plot_enrichment(enrichment_df_all, com_multiplex_sizes, os.path.join(FIGURES_DIR, \"enrichment_analysis_multplex_all_genes.png\"))"
   ]
  },
  {
   "cell_type": "markdown",
   "metadata": {},
   "source": [
    "# Gene enrichment in phenotype network layer"
   ]
  },
  {
   "cell_type": "code",
   "execution_count": null,
   "metadata": {},
   "outputs": [],
   "source": [
    "if WES:\n",
    "    TOP_MODULES = 12\n",
    "else:\n",
    "    TOP_MODULES = 18\n",
    "\n",
    "coms_phenotype_enrichment_df = pd.read_csv(os.path.join(COMS_DIR, 'coms_phenotype_enrichment.csv'))\n",
    "enrichment_df = get_enrichments_matrix(coms_phenotype_enrichment_df)\n",
    "enrichment_df = enrichment_df.iloc[:,:TOP_MODULES]\n",
    "coms_phenotype_enrichment_df_all = pd.read_csv(os.path.join(COMS_DIR, 'coms_phenotype_enrichment_all_genes.csv'))\n",
    "enrichment_df_all = get_enrichments_matrix(coms_phenotype_enrichment_df_all)\n",
    "enrichment_df_all = enrichment_df_all.iloc[:,:TOP_MODULES]"
   ]
  },
  {
   "cell_type": "code",
   "execution_count": null,
   "metadata": {},
   "outputs": [],
   "source": [
    "plot_enrichment(enrichment_df, com_phenotype_sizes, os.path.join(FIGURES_DIR, \"enrichment_analysis_phenotype.png\"))"
   ]
  },
  {
   "cell_type": "code",
   "execution_count": null,
   "metadata": {},
   "outputs": [],
   "source": [
    "plot_enrichment(enrichment_df_all, com_phenotype_sizes, os.path.join(FIGURES_DIR, \"enrichment_analysis_phenotype_all_genes.png\"), vmax=100)"
   ]
  },
  {
   "cell_type": "markdown",
   "metadata": {},
   "source": [
    "# Gene enrichment in PPI network layer"
   ]
  },
  {
   "cell_type": "code",
   "execution_count": null,
   "metadata": {},
   "outputs": [],
   "source": [
    "if WES:\n",
    "    TOP_MODULES = 10\n",
    "else:\n",
    "     TOP_MODULES = 17\n",
    "        \n",
    "coms_ppi_enrichment_df = pd.read_csv(os.path.join(COMS_DIR, 'coms_ppi_enrichment.csv'))\n",
    "enrichment_df = get_enrichments_matrix(coms_ppi_enrichment_df)\n",
    "enrichment_df = enrichment_df.iloc[:,:TOP_MODULES]\n",
    "\n",
    "coms_ppi_enrichment_df_all = pd.read_csv(os.path.join(COMS_DIR, 'coms_ppi_enrichment_all_genes.csv'))\n",
    "enrichment_df_all = get_enrichments_matrix(coms_ppi_enrichment_df_all)\n",
    "enrichment_df_all = enrichment_df_all.iloc[:,:TOP_MODULES]"
   ]
  },
  {
   "cell_type": "code",
   "execution_count": null,
   "metadata": {},
   "outputs": [],
   "source": [
    "plot_enrichment(enrichment_df, com_ppi_sizes, os.path.join(FIGURES_DIR, \"enrichment_analysis_ppi.png\"))"
   ]
  },
  {
   "cell_type": "code",
   "execution_count": null,
   "metadata": {},
   "outputs": [],
   "source": [
    "plot_enrichment(enrichment_df_all, com_ppi_sizes, os.path.join(FIGURES_DIR, \"enrichment_analysis_ppi_all_genes.png\"), vmax=100)"
   ]
  },
  {
   "cell_type": "code",
   "execution_count": null,
   "metadata": {},
   "outputs": [],
   "source": []
  }
 ],
 "metadata": {
  "kernelspec": {
   "display_name": "Python 3",
   "language": "python",
   "name": "python3"
  },
  "language_info": {
   "codemirror_mode": {
    "name": "ipython",
    "version": 3
   },
   "file_extension": ".py",
   "mimetype": "text/x-python",
   "name": "python",
   "nbconvert_exporter": "python",
   "pygments_lexer": "ipython3",
   "version": "3.7.4"
  }
 },
 "nbformat": 4,
 "nbformat_minor": 2
}
