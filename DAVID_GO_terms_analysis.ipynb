{
 "cells": [
  {
   "cell_type": "markdown",
   "metadata": {},
   "source": [
    "Variables to be updated/configured:"
   ]
  },
  {
   "cell_type": "code",
   "execution_count": null,
   "metadata": {},
   "outputs": [],
   "source": [
    "FIGURES_DIR = 'figures' # path to directory where figures will the saved (creates the directory if it doesn't exist)\n",
    "TABLES_DIR = \"tables\" # path to directory containing .csv files representing tables (creates the directory if it doesn't exist)\n",
    "DAVID_MODULES_DIR = 'DAVID_modules' # path to directory where DAVID output is stored for the larget multiplex network\n",
    "DAVID_MODULES_DIR_WES = 'DAVID_modules_wes' # path to directory where DAVID output is stored for the WES multiplex network"
   ]
  },
  {
   "cell_type": "code",
   "execution_count": null,
   "metadata": {},
   "outputs": [],
   "source": [
    "import os\n",
    "import matplotlib\n",
    "import matplotlib.pyplot as plt\n",
    "import numpy as np\n",
    "import pandas as pd"
   ]
  },
  {
   "cell_type": "code",
   "execution_count": null,
   "metadata": {},
   "outputs": [],
   "source": [
    "if not os.path.exists(TABLES_DIR):\n",
    "    os.makedirs(TABLES_DIR)\n",
    "if not os.path.exists(FIGURES_DIR):\n",
    "    os.makedirs(FIGURES_DIR)"
   ]
  },
  {
   "cell_type": "code",
   "execution_count": null,
   "metadata": {},
   "outputs": [],
   "source": [
    "font = {'size'   : 18}\n",
    "matplotlib.rc('font', **font)"
   ]
  },
  {
   "cell_type": "markdown",
   "metadata": {},
   "source": [
    "# Generate top GO terms for each module"
   ]
  },
  {
   "cell_type": "code",
   "execution_count": null,
   "metadata": {},
   "outputs": [],
   "source": [
    "def get_top_go_terms(num_modules, input_dir):\n",
    "    df = pd.DataFrame()\n",
    "    for m in range(1, num_modules+1):\n",
    "        # bp\n",
    "        temp = pd.read_csv(os.path.join(input_dir, str(m)+\"-\"+\"bp\"), sep=\"\\t\")\n",
    "        temp = temp.sort_values(by=\"FDR\")\n",
    "\n",
    "        bp_terms = []\n",
    "        for i, row in temp.iterrows():\n",
    "            if i == 10:\n",
    "                break\n",
    "            bp_terms.append(row[\"Term\"] + \",\" + str(row[\"Count\"]) + \",\" + str(row[\"FDR\"]))\n",
    "\n",
    "        # cc\n",
    "        temp = pd.read_csv(os.path.join(input_dir, str(m)+\"-\"+\"cc\"), sep=\"\\t\")\n",
    "        temp = temp.sort_values(by=\"FDR\")\n",
    "\n",
    "        cc_terms = []\n",
    "        for i, row in temp.iterrows():\n",
    "            if i == 10:\n",
    "                break\n",
    "            cc_terms.append(row[\"Term\"] + \",\" + str(row[\"Count\"]) + \",\" + str(row[\"FDR\"]))\n",
    "\n",
    "        # mf\n",
    "        mf_terms = []\n",
    "        try:\n",
    "            temp = pd.read_csv(os.path.join(input_dir, str(m)+\"-\"+\"mf\"), sep=\"\\t\")\n",
    "            temp = temp.sort_values(by=\"FDR\")\n",
    "\n",
    "            for i, row in temp.iterrows():\n",
    "                if i == 10:\n",
    "                    break\n",
    "                mf_terms.append(row[\"Term\"] + \",\" + str(row[\"Count\"]) + \",\" + str(row[\"FDR\"]))\n",
    "        except:\n",
    "            mf_terms.append('No GO terms found')\n",
    "\n",
    "        temp_df = pd.DataFrame({\"GO_terms_bp\": \";\".join(bp_terms), \n",
    "                             \"GO_terms_mf\": \";\".join(mf_terms),\n",
    "                             \"GO_terms_cc\": \";\".join(cc_terms),\n",
    "                            }, index=[m-1])\n",
    "        df = df.append(temp_df)\n",
    "    df['module'] = np.arange(1,num_modules+1)\n",
    "    return df"
   ]
  },
  {
   "cell_type": "code",
   "execution_count": null,
   "metadata": {},
   "outputs": [],
   "source": [
    "df = get_top_go_terms(num_modules=13, input_dir=DAVID_MODULES_DIR_WES)\n",
    "df.to_csv(os.path.join(TABLES_DIR, \"DAVID_GO_terms_wes.csv\"), index=False)\n",
    "\n",
    "df = get_top_go_terms(num_modules=14, input_dir=DAVID_MODULES_DIR)\n",
    "df.to_csv(os.path.join(TABLES_DIR, \"DAVID_GO_terms.csv\"), index=False)"
   ]
  },
  {
   "cell_type": "markdown",
   "metadata": {},
   "source": [
    "# Generate top GO term figures for modules of interest"
   ]
  },
  {
   "cell_type": "code",
   "execution_count": null,
   "metadata": {},
   "outputs": [],
   "source": [
    "def plot_GO_term(GO_terms, pvals, counts, xlim, filename):\n",
    "    print(filename)\n",
    "    bar_width = 0.5\n",
    "    labelsize = 12\n",
    "    y_pos = np.arange(len(GO_terms))\n",
    "\n",
    "    fig, ax1 = plt.subplots(figsize=(10,6))\n",
    "    ax1.tick_params(axis='both', which='major', labelsize=labelsize)\n",
    "    ax1.tick_params(axis='both', which='minor', labelsize=labelsize)\n",
    "    bar1 = ax1.barh(y_pos, -np.log10(pvals), bar_width, align='center', color=\"lightblue\", alpha=0.7)\n",
    "    ax1.set_yticks(y_pos)\n",
    "    ax1.set_yticklabels(GO_terms)\n",
    "    ax1.invert_yaxis()  \n",
    "    ax1.set_xlabel('-log10(FDR)')\n",
    "\n",
    "    ax2 = ax1.twiny()\n",
    "    ax2.tick_params(axis='both', which='major', labelsize=labelsize)\n",
    "    ax2.tick_params(axis='both', which='minor', labelsize=labelsize)\n",
    "    color = \"purple\"\n",
    "    ax2.scatter(counts, y_pos, color=color)\n",
    "    ax2.set_xlabel('Number of genes', color=color)\n",
    "    ax2.tick_params(axis='x', labelcolor=color)\n",
    "    \n",
    "    if xlim:\n",
    "        ax2.set_xlim(xlim)\n",
    "\n",
    "    fig.tight_layout()\n",
    "\n",
    "    plt.savefig(os.path.join(FIGURES_DIR, filename), dpi=600)\n",
    "    plt.show()"
   ]
  },
  {
   "cell_type": "code",
   "execution_count": null,
   "metadata": {},
   "outputs": [],
   "source": [
    "temp = pd.read_csv(os.path.join(DAVID_MODULES_DIR_WES, \"2-bp\"), sep=\"\\t\")\n",
    "cutoff=10\n",
    "plot_GO_term(list(temp[\"Term\"])[:cutoff], list(temp['FDR'])[:cutoff], list(temp['Count'])[:cutoff], xlim=2, filename='mod_2_wes_GO.png')\n",
    "\n",
    "temp = pd.read_csv(os.path.join(DAVID_MODULES_DIR_WES, \"7-bp\"), sep=\"\\t\")\n",
    "plot_GO_term(list(temp[\"Term\"])[:cutoff], list(temp['FDR'])[:cutoff], list(temp['Count'])[:cutoff], xlim=2, filename='mod_7_wes_GO.png')\n",
    "\n",
    "temp = pd.read_csv(os.path.join(DAVID_MODULES_DIR, \"3-bp\"), sep=\"\\t\")\n",
    "cutoff=10\n",
    "plot_GO_term(list(temp[\"Term\"])[:cutoff], list(temp['FDR'])[:cutoff], list(temp['Count'])[:cutoff], xlim=2, filename='mod_3_GO.png')\n",
    "\n",
    "temp = pd.read_csv(os.path.join(DAVID_MODULES_DIR, \"6-bp\"), sep=\"\\t\")\n",
    "plot_GO_term(list(temp[\"Term\"])[:cutoff], list(temp['FDR'])[:cutoff], list(temp['Count'])[:cutoff], xlim=2, filename='mod_6_GO.png')\n"
   ]
  },
  {
   "cell_type": "code",
   "execution_count": null,
   "metadata": {},
   "outputs": [],
   "source": []
  }
 ],
 "metadata": {
  "kernelspec": {
   "display_name": "Python 3",
   "language": "python",
   "name": "python3"
  },
  "language_info": {
   "codemirror_mode": {
    "name": "ipython",
    "version": 3
   },
   "file_extension": ".py",
   "mimetype": "text/x-python",
   "name": "python",
   "nbconvert_exporter": "python",
   "pygments_lexer": "ipython3",
   "version": "3.7.4"
  }
 },
 "nbformat": 4,
 "nbformat_minor": 2
}
